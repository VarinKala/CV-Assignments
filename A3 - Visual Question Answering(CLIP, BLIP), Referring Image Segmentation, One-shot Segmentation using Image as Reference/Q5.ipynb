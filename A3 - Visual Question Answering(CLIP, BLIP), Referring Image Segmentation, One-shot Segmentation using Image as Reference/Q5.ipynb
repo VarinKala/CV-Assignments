{
  "metadata": {
    "kernelspec": {
      "display_name": "Python 3",
      "name": "python3"
    },
    "language_info": {
      "name": "python",
      "version": "3.11.11",
      "mimetype": "text/x-python",
      "codemirror_mode": {
        "name": "ipython",
        "version": 3
      },
      "pygments_lexer": "ipython3",
      "nbconvert_exporter": "python",
      "file_extension": ".py"
    },
    "kaggle": {
      "accelerator": "none",
      "dataSources": [
        {
          "sourceId": 11485054,
          "sourceType": "datasetVersion",
          "datasetId": 7163000
        }
      ],
      "dockerImageVersionId": 31012,
      "isInternetEnabled": true,
      "language": "python",
      "sourceType": "notebook",
      "isGpuEnabled": false
    },
    "colab": {
      "name": "CV_A3_5",
      "provenance": [],
      "gpuType": "T4"
    },
    "accelerator": "GPU",
    "widgets": {
      "application/vnd.jupyter.widget-state+json": {
        "aeeb2b60ee8547439273cef6b94923d5": {
          "model_module": "@jupyter-widgets/controls",
          "model_name": "VBoxModel",
          "model_module_version": "1.5.0",
          "state": {
            "_dom_classes": [],
            "_model_module": "@jupyter-widgets/controls",
            "_model_module_version": "1.5.0",
            "_model_name": "VBoxModel",
            "_view_count": null,
            "_view_module": "@jupyter-widgets/controls",
            "_view_module_version": "1.5.0",
            "_view_name": "VBoxView",
            "box_style": "",
            "children": [],
            "layout": "IPY_MODEL_a16b1f49bc8d472396233daf11f6fa5e"
          }
        },
        "d2cf86627a7f4541b0368c88a7f90cd0": {
          "model_module": "@jupyter-widgets/controls",
          "model_name": "HTMLModel",
          "model_module_version": "1.5.0",
          "state": {
            "_dom_classes": [],
            "_model_module": "@jupyter-widgets/controls",
            "_model_module_version": "1.5.0",
            "_model_name": "HTMLModel",
            "_view_count": null,
            "_view_module": "@jupyter-widgets/controls",
            "_view_module_version": "1.5.0",
            "_view_name": "HTMLView",
            "description": "",
            "description_tooltip": null,
            "layout": "IPY_MODEL_2ae6509afbd445dcb280779da3de5cf1",
            "placeholder": "​",
            "style": "IPY_MODEL_2551feec926c43078a702faa93d9dc42",
            "value": "<center> <img\nsrc=https://www.kaggle.com/static/images/site-logo.png\nalt='Kaggle'> <br> Create an API token from <a\nhref=\"https://www.kaggle.com/settings/account\" target=\"_blank\">your Kaggle\nsettings page</a> and paste it below along with your Kaggle username. <br> </center>"
          }
        },
        "28e630f79a1d40b088b4d5593c581876": {
          "model_module": "@jupyter-widgets/controls",
          "model_name": "TextModel",
          "model_module_version": "1.5.0",
          "state": {
            "_dom_classes": [],
            "_model_module": "@jupyter-widgets/controls",
            "_model_module_version": "1.5.0",
            "_model_name": "TextModel",
            "_view_count": null,
            "_view_module": "@jupyter-widgets/controls",
            "_view_module_version": "1.5.0",
            "_view_name": "TextView",
            "continuous_update": true,
            "description": "Username:",
            "description_tooltip": null,
            "disabled": false,
            "layout": "IPY_MODEL_c670110ea9e1449b9edd821aa01f348c",
            "placeholder": "​",
            "style": "IPY_MODEL_703e3e0204364748a82c04ae73f4dd4c",
            "value": "varinkala"
          }
        },
        "4c2efa2fb6da40608550fe7c196353e2": {
          "model_module": "@jupyter-widgets/controls",
          "model_name": "PasswordModel",
          "model_module_version": "1.5.0",
          "state": {
            "_dom_classes": [],
            "_model_module": "@jupyter-widgets/controls",
            "_model_module_version": "1.5.0",
            "_model_name": "PasswordModel",
            "_view_count": null,
            "_view_module": "@jupyter-widgets/controls",
            "_view_module_version": "1.5.0",
            "_view_name": "PasswordView",
            "continuous_update": true,
            "description": "Token:",
            "description_tooltip": null,
            "disabled": false,
            "layout": "IPY_MODEL_bf9ae5dd0a324504aff20a25fef732d1",
            "placeholder": "​",
            "style": "IPY_MODEL_7f943993c8ec4eb9b31f922ac2a9a989",
            "value": ""
          }
        },
        "3d111e24ffe54e5db0424a763f91e28b": {
          "model_module": "@jupyter-widgets/controls",
          "model_name": "ButtonModel",
          "model_module_version": "1.5.0",
          "state": {
            "_dom_classes": [],
            "_model_module": "@jupyter-widgets/controls",
            "_model_module_version": "1.5.0",
            "_model_name": "ButtonModel",
            "_view_count": null,
            "_view_module": "@jupyter-widgets/controls",
            "_view_module_version": "1.5.0",
            "_view_name": "ButtonView",
            "button_style": "",
            "description": "Login",
            "disabled": false,
            "icon": "",
            "layout": "IPY_MODEL_77c9a828501145b28064f45503cac908",
            "style": "IPY_MODEL_9fbac1b9a06f43dd8cea00602be4ce12",
            "tooltip": ""
          }
        },
        "3747fa4a9f3f473583b5298941124930": {
          "model_module": "@jupyter-widgets/controls",
          "model_name": "HTMLModel",
          "model_module_version": "1.5.0",
          "state": {
            "_dom_classes": [],
            "_model_module": "@jupyter-widgets/controls",
            "_model_module_version": "1.5.0",
            "_model_name": "HTMLModel",
            "_view_count": null,
            "_view_module": "@jupyter-widgets/controls",
            "_view_module_version": "1.5.0",
            "_view_name": "HTMLView",
            "description": "",
            "description_tooltip": null,
            "layout": "IPY_MODEL_99ff9846a6724855a2ebcecf7add8b41",
            "placeholder": "​",
            "style": "IPY_MODEL_ae2e3fe5ab314739a5cc5cb072464ae9",
            "value": "\n<b>Thank You</b></center>"
          }
        },
        "a16b1f49bc8d472396233daf11f6fa5e": {
          "model_module": "@jupyter-widgets/base",
          "model_name": "LayoutModel",
          "model_module_version": "1.2.0",
          "state": {
            "_model_module": "@jupyter-widgets/base",
            "_model_module_version": "1.2.0",
            "_model_name": "LayoutModel",
            "_view_count": null,
            "_view_module": "@jupyter-widgets/base",
            "_view_module_version": "1.2.0",
            "_view_name": "LayoutView",
            "align_content": null,
            "align_items": "center",
            "align_self": null,
            "border": null,
            "bottom": null,
            "display": "flex",
            "flex": null,
            "flex_flow": "column",
            "grid_area": null,
            "grid_auto_columns": null,
            "grid_auto_flow": null,
            "grid_auto_rows": null,
            "grid_column": null,
            "grid_gap": null,
            "grid_row": null,
            "grid_template_areas": null,
            "grid_template_columns": null,
            "grid_template_rows": null,
            "height": null,
            "justify_content": null,
            "justify_items": null,
            "left": null,
            "margin": null,
            "max_height": null,
            "max_width": null,
            "min_height": null,
            "min_width": null,
            "object_fit": null,
            "object_position": null,
            "order": null,
            "overflow": null,
            "overflow_x": null,
            "overflow_y": null,
            "padding": null,
            "right": null,
            "top": null,
            "visibility": null,
            "width": "50%"
          }
        },
        "2ae6509afbd445dcb280779da3de5cf1": {
          "model_module": "@jupyter-widgets/base",
          "model_name": "LayoutModel",
          "model_module_version": "1.2.0",
          "state": {
            "_model_module": "@jupyter-widgets/base",
            "_model_module_version": "1.2.0",
            "_model_name": "LayoutModel",
            "_view_count": null,
            "_view_module": "@jupyter-widgets/base",
            "_view_module_version": "1.2.0",
            "_view_name": "LayoutView",
            "align_content": null,
            "align_items": null,
            "align_self": null,
            "border": null,
            "bottom": null,
            "display": null,
            "flex": null,
            "flex_flow": null,
            "grid_area": null,
            "grid_auto_columns": null,
            "grid_auto_flow": null,
            "grid_auto_rows": null,
            "grid_column": null,
            "grid_gap": null,
            "grid_row": null,
            "grid_template_areas": null,
            "grid_template_columns": null,
            "grid_template_rows": null,
            "height": null,
            "justify_content": null,
            "justify_items": null,
            "left": null,
            "margin": null,
            "max_height": null,
            "max_width": null,
            "min_height": null,
            "min_width": null,
            "object_fit": null,
            "object_position": null,
            "order": null,
            "overflow": null,
            "overflow_x": null,
            "overflow_y": null,
            "padding": null,
            "right": null,
            "top": null,
            "visibility": null,
            "width": null
          }
        },
        "2551feec926c43078a702faa93d9dc42": {
          "model_module": "@jupyter-widgets/controls",
          "model_name": "DescriptionStyleModel",
          "model_module_version": "1.5.0",
          "state": {
            "_model_module": "@jupyter-widgets/controls",
            "_model_module_version": "1.5.0",
            "_model_name": "DescriptionStyleModel",
            "_view_count": null,
            "_view_module": "@jupyter-widgets/base",
            "_view_module_version": "1.2.0",
            "_view_name": "StyleView",
            "description_width": ""
          }
        },
        "c670110ea9e1449b9edd821aa01f348c": {
          "model_module": "@jupyter-widgets/base",
          "model_name": "LayoutModel",
          "model_module_version": "1.2.0",
          "state": {
            "_model_module": "@jupyter-widgets/base",
            "_model_module_version": "1.2.0",
            "_model_name": "LayoutModel",
            "_view_count": null,
            "_view_module": "@jupyter-widgets/base",
            "_view_module_version": "1.2.0",
            "_view_name": "LayoutView",
            "align_content": null,
            "align_items": null,
            "align_self": null,
            "border": null,
            "bottom": null,
            "display": null,
            "flex": null,
            "flex_flow": null,
            "grid_area": null,
            "grid_auto_columns": null,
            "grid_auto_flow": null,
            "grid_auto_rows": null,
            "grid_column": null,
            "grid_gap": null,
            "grid_row": null,
            "grid_template_areas": null,
            "grid_template_columns": null,
            "grid_template_rows": null,
            "height": null,
            "justify_content": null,
            "justify_items": null,
            "left": null,
            "margin": null,
            "max_height": null,
            "max_width": null,
            "min_height": null,
            "min_width": null,
            "object_fit": null,
            "object_position": null,
            "order": null,
            "overflow": null,
            "overflow_x": null,
            "overflow_y": null,
            "padding": null,
            "right": null,
            "top": null,
            "visibility": null,
            "width": null
          }
        },
        "703e3e0204364748a82c04ae73f4dd4c": {
          "model_module": "@jupyter-widgets/controls",
          "model_name": "DescriptionStyleModel",
          "model_module_version": "1.5.0",
          "state": {
            "_model_module": "@jupyter-widgets/controls",
            "_model_module_version": "1.5.0",
            "_model_name": "DescriptionStyleModel",
            "_view_count": null,
            "_view_module": "@jupyter-widgets/base",
            "_view_module_version": "1.2.0",
            "_view_name": "StyleView",
            "description_width": ""
          }
        },
        "bf9ae5dd0a324504aff20a25fef732d1": {
          "model_module": "@jupyter-widgets/base",
          "model_name": "LayoutModel",
          "model_module_version": "1.2.0",
          "state": {
            "_model_module": "@jupyter-widgets/base",
            "_model_module_version": "1.2.0",
            "_model_name": "LayoutModel",
            "_view_count": null,
            "_view_module": "@jupyter-widgets/base",
            "_view_module_version": "1.2.0",
            "_view_name": "LayoutView",
            "align_content": null,
            "align_items": null,
            "align_self": null,
            "border": null,
            "bottom": null,
            "display": null,
            "flex": null,
            "flex_flow": null,
            "grid_area": null,
            "grid_auto_columns": null,
            "grid_auto_flow": null,
            "grid_auto_rows": null,
            "grid_column": null,
            "grid_gap": null,
            "grid_row": null,
            "grid_template_areas": null,
            "grid_template_columns": null,
            "grid_template_rows": null,
            "height": null,
            "justify_content": null,
            "justify_items": null,
            "left": null,
            "margin": null,
            "max_height": null,
            "max_width": null,
            "min_height": null,
            "min_width": null,
            "object_fit": null,
            "object_position": null,
            "order": null,
            "overflow": null,
            "overflow_x": null,
            "overflow_y": null,
            "padding": null,
            "right": null,
            "top": null,
            "visibility": null,
            "width": null
          }
        },
        "7f943993c8ec4eb9b31f922ac2a9a989": {
          "model_module": "@jupyter-widgets/controls",
          "model_name": "DescriptionStyleModel",
          "model_module_version": "1.5.0",
          "state": {
            "_model_module": "@jupyter-widgets/controls",
            "_model_module_version": "1.5.0",
            "_model_name": "DescriptionStyleModel",
            "_view_count": null,
            "_view_module": "@jupyter-widgets/base",
            "_view_module_version": "1.2.0",
            "_view_name": "StyleView",
            "description_width": ""
          }
        },
        "77c9a828501145b28064f45503cac908": {
          "model_module": "@jupyter-widgets/base",
          "model_name": "LayoutModel",
          "model_module_version": "1.2.0",
          "state": {
            "_model_module": "@jupyter-widgets/base",
            "_model_module_version": "1.2.0",
            "_model_name": "LayoutModel",
            "_view_count": null,
            "_view_module": "@jupyter-widgets/base",
            "_view_module_version": "1.2.0",
            "_view_name": "LayoutView",
            "align_content": null,
            "align_items": null,
            "align_self": null,
            "border": null,
            "bottom": null,
            "display": null,
            "flex": null,
            "flex_flow": null,
            "grid_area": null,
            "grid_auto_columns": null,
            "grid_auto_flow": null,
            "grid_auto_rows": null,
            "grid_column": null,
            "grid_gap": null,
            "grid_row": null,
            "grid_template_areas": null,
            "grid_template_columns": null,
            "grid_template_rows": null,
            "height": null,
            "justify_content": null,
            "justify_items": null,
            "left": null,
            "margin": null,
            "max_height": null,
            "max_width": null,
            "min_height": null,
            "min_width": null,
            "object_fit": null,
            "object_position": null,
            "order": null,
            "overflow": null,
            "overflow_x": null,
            "overflow_y": null,
            "padding": null,
            "right": null,
            "top": null,
            "visibility": null,
            "width": null
          }
        },
        "9fbac1b9a06f43dd8cea00602be4ce12": {
          "model_module": "@jupyter-widgets/controls",
          "model_name": "ButtonStyleModel",
          "model_module_version": "1.5.0",
          "state": {
            "_model_module": "@jupyter-widgets/controls",
            "_model_module_version": "1.5.0",
            "_model_name": "ButtonStyleModel",
            "_view_count": null,
            "_view_module": "@jupyter-widgets/base",
            "_view_module_version": "1.2.0",
            "_view_name": "StyleView",
            "button_color": null,
            "font_weight": ""
          }
        },
        "99ff9846a6724855a2ebcecf7add8b41": {
          "model_module": "@jupyter-widgets/base",
          "model_name": "LayoutModel",
          "model_module_version": "1.2.0",
          "state": {
            "_model_module": "@jupyter-widgets/base",
            "_model_module_version": "1.2.0",
            "_model_name": "LayoutModel",
            "_view_count": null,
            "_view_module": "@jupyter-widgets/base",
            "_view_module_version": "1.2.0",
            "_view_name": "LayoutView",
            "align_content": null,
            "align_items": null,
            "align_self": null,
            "border": null,
            "bottom": null,
            "display": null,
            "flex": null,
            "flex_flow": null,
            "grid_area": null,
            "grid_auto_columns": null,
            "grid_auto_flow": null,
            "grid_auto_rows": null,
            "grid_column": null,
            "grid_gap": null,
            "grid_row": null,
            "grid_template_areas": null,
            "grid_template_columns": null,
            "grid_template_rows": null,
            "height": null,
            "justify_content": null,
            "justify_items": null,
            "left": null,
            "margin": null,
            "max_height": null,
            "max_width": null,
            "min_height": null,
            "min_width": null,
            "object_fit": null,
            "object_position": null,
            "order": null,
            "overflow": null,
            "overflow_x": null,
            "overflow_y": null,
            "padding": null,
            "right": null,
            "top": null,
            "visibility": null,
            "width": null
          }
        },
        "ae2e3fe5ab314739a5cc5cb072464ae9": {
          "model_module": "@jupyter-widgets/controls",
          "model_name": "DescriptionStyleModel",
          "model_module_version": "1.5.0",
          "state": {
            "_model_module": "@jupyter-widgets/controls",
            "_model_module_version": "1.5.0",
            "_model_name": "DescriptionStyleModel",
            "_view_count": null,
            "_view_module": "@jupyter-widgets/base",
            "_view_module_version": "1.2.0",
            "_view_name": "StyleView",
            "description_width": ""
          }
        },
        "02c238c160b54b52b3d504825d681c6a": {
          "model_module": "@jupyter-widgets/controls",
          "model_name": "LabelModel",
          "model_module_version": "1.5.0",
          "state": {
            "_dom_classes": [],
            "_model_module": "@jupyter-widgets/controls",
            "_model_module_version": "1.5.0",
            "_model_name": "LabelModel",
            "_view_count": null,
            "_view_module": "@jupyter-widgets/controls",
            "_view_module_version": "1.5.0",
            "_view_name": "LabelView",
            "description": "",
            "description_tooltip": null,
            "layout": "IPY_MODEL_9c5d0fadec954a7181816b8748ae2a65",
            "placeholder": "​",
            "style": "IPY_MODEL_ce79eb2836074b7d8c4e51169ae5a509",
            "value": "Connecting..."
          }
        },
        "9c5d0fadec954a7181816b8748ae2a65": {
          "model_module": "@jupyter-widgets/base",
          "model_name": "LayoutModel",
          "model_module_version": "1.2.0",
          "state": {
            "_model_module": "@jupyter-widgets/base",
            "_model_module_version": "1.2.0",
            "_model_name": "LayoutModel",
            "_view_count": null,
            "_view_module": "@jupyter-widgets/base",
            "_view_module_version": "1.2.0",
            "_view_name": "LayoutView",
            "align_content": null,
            "align_items": null,
            "align_self": null,
            "border": null,
            "bottom": null,
            "display": null,
            "flex": null,
            "flex_flow": null,
            "grid_area": null,
            "grid_auto_columns": null,
            "grid_auto_flow": null,
            "grid_auto_rows": null,
            "grid_column": null,
            "grid_gap": null,
            "grid_row": null,
            "grid_template_areas": null,
            "grid_template_columns": null,
            "grid_template_rows": null,
            "height": null,
            "justify_content": null,
            "justify_items": null,
            "left": null,
            "margin": null,
            "max_height": null,
            "max_width": null,
            "min_height": null,
            "min_width": null,
            "object_fit": null,
            "object_position": null,
            "order": null,
            "overflow": null,
            "overflow_x": null,
            "overflow_y": null,
            "padding": null,
            "right": null,
            "top": null,
            "visibility": null,
            "width": null
          }
        },
        "ce79eb2836074b7d8c4e51169ae5a509": {
          "model_module": "@jupyter-widgets/controls",
          "model_name": "DescriptionStyleModel",
          "model_module_version": "1.5.0",
          "state": {
            "_model_module": "@jupyter-widgets/controls",
            "_model_module_version": "1.5.0",
            "_model_name": "DescriptionStyleModel",
            "_view_count": null,
            "_view_module": "@jupyter-widgets/base",
            "_view_module_version": "1.2.0",
            "_view_name": "StyleView",
            "description_width": ""
          }
        }
      }
    }
  },
  "nbformat_minor": 0,
  "nbformat": 4,
  "cells": [
    {
      "cell_type": "code",
      "source": [
        "!sudo apt-get update -y\n",
        "!sudo apt-get install python3.9 python3.9-distutils python3.9-dev -y"
      ],
      "metadata": {
        "collapsed": true,
        "colab": {
          "base_uri": "https://localhost:8080/"
        },
        "id": "RsAFd_NkLA2W",
        "outputId": "f8b189f7-212b-494f-efcd-42c5df3afb5a"
      },
      "execution_count": 1,
      "outputs": [
        {
          "output_type": "stream",
          "name": "stdout",
          "text": [
            "\r0% [Working]\r            \rGet:1 https://cloud.r-project.org/bin/linux/ubuntu jammy-cran40/ InRelease [3,632 B]\n",
            "Get:2 https://developer.download.nvidia.com/compute/cuda/repos/ubuntu2204/x86_64  InRelease [1,581 B]\n",
            "Get:3 http://security.ubuntu.com/ubuntu jammy-security InRelease [129 kB]\n",
            "Hit:4 http://archive.ubuntu.com/ubuntu jammy InRelease\n",
            "Get:5 https://r2u.stat.illinois.edu/ubuntu jammy InRelease [6,555 B]\n",
            "Get:6 https://cloud.r-project.org/bin/linux/ubuntu jammy-cran40/ Packages [75.2 kB]\n",
            "Get:7 http://archive.ubuntu.com/ubuntu jammy-updates InRelease [128 kB]\n",
            "Get:8 https://developer.download.nvidia.com/compute/cuda/repos/ubuntu2204/x86_64  Packages [1,604 kB]\n",
            "Hit:9 https://ppa.launchpadcontent.net/deadsnakes/ppa/ubuntu jammy InRelease\n",
            "Hit:10 https://ppa.launchpadcontent.net/graphics-drivers/ppa/ubuntu jammy InRelease\n",
            "Get:11 https://r2u.stat.illinois.edu/ubuntu jammy/main all Packages [8,842 kB]\n",
            "Hit:12 https://ppa.launchpadcontent.net/ubuntugis/ppa/ubuntu jammy InRelease\n",
            "Hit:13 http://archive.ubuntu.com/ubuntu jammy-backports InRelease\n",
            "Get:14 http://security.ubuntu.com/ubuntu jammy-security/main amd64 Packages [2,834 kB]\n",
            "Get:15 http://archive.ubuntu.com/ubuntu jammy-updates/universe amd64 Packages [1,542 kB]\n",
            "Get:16 https://r2u.stat.illinois.edu/ubuntu jammy/main amd64 Packages [2,696 kB]\n",
            "Get:17 http://security.ubuntu.com/ubuntu jammy-security/restricted amd64 Packages [4,098 kB]\n",
            "Get:18 http://archive.ubuntu.com/ubuntu jammy-updates/restricted amd64 Packages [4,259 kB]\n",
            "Get:19 http://security.ubuntu.com/ubuntu jammy-security/universe amd64 Packages [1,243 kB]\n",
            "Get:20 http://archive.ubuntu.com/ubuntu jammy-updates/main amd64 Packages [3,148 kB]\n",
            "Fetched 30.6 MB in 5s (6,796 kB/s)\n",
            "Reading package lists... Done\n",
            "W: Skipping acquire of configured file 'main/source/Sources' as repository 'https://r2u.stat.illinois.edu/ubuntu jammy InRelease' does not seem to provide it (sources.list entry misspelt?)\n",
            "Reading package lists... Done\n",
            "Building dependency tree... Done\n",
            "Reading state information... Done\n",
            "The following additional packages will be installed:\n",
            "  libpython3.9 libpython3.9-dev libpython3.9-minimal libpython3.9-stdlib\n",
            "  python3.9-lib2to3 python3.9-minimal\n",
            "Suggested packages:\n",
            "  python3.9-venv binfmt-support\n",
            "The following NEW packages will be installed:\n",
            "  libpython3.9 libpython3.9-dev libpython3.9-minimal libpython3.9-stdlib\n",
            "  python3.9 python3.9-dev python3.9-distutils python3.9-lib2to3\n",
            "  python3.9-minimal\n",
            "0 upgraded, 9 newly installed, 0 to remove and 41 not upgraded.\n",
            "Need to get 12.2 MB of archives.\n",
            "After this operation, 46.6 MB of additional disk space will be used.\n",
            "Get:1 https://ppa.launchpadcontent.net/deadsnakes/ppa/ubuntu jammy/main amd64 libpython3.9-minimal amd64 3.9.22-1+jammy1 [837 kB]\n",
            "Get:2 https://ppa.launchpadcontent.net/deadsnakes/ppa/ubuntu jammy/main amd64 python3.9-minimal amd64 3.9.22-1+jammy1 [2,072 kB]\n",
            "Get:3 https://ppa.launchpadcontent.net/deadsnakes/ppa/ubuntu jammy/main amd64 libpython3.9-stdlib amd64 3.9.22-1+jammy1 [1,844 kB]\n",
            "Get:4 https://ppa.launchpadcontent.net/deadsnakes/ppa/ubuntu jammy/main amd64 libpython3.9 amd64 3.9.22-1+jammy1 [1,904 kB]\n",
            "Get:5 https://ppa.launchpadcontent.net/deadsnakes/ppa/ubuntu jammy/main amd64 libpython3.9-dev amd64 3.9.22-1+jammy1 [4,628 kB]\n",
            "Get:6 https://ppa.launchpadcontent.net/deadsnakes/ppa/ubuntu jammy/main amd64 python3.9 amd64 3.9.22-1+jammy1 [93.0 kB]\n",
            "Get:7 https://ppa.launchpadcontent.net/deadsnakes/ppa/ubuntu jammy/main amd64 python3.9-dev amd64 3.9.22-1+jammy1 [500 kB]\n",
            "Get:8 https://ppa.launchpadcontent.net/deadsnakes/ppa/ubuntu jammy/main amd64 python3.9-lib2to3 all 3.9.22-1+jammy1 [127 kB]\n",
            "Get:9 https://ppa.launchpadcontent.net/deadsnakes/ppa/ubuntu jammy/main amd64 python3.9-distutils all 3.9.22-1+jammy1 [193 kB]\n",
            "Fetched 12.2 MB in 27s (453 kB/s)\n",
            "debconf: unable to initialize frontend: Dialog\n",
            "debconf: (No usable dialog-like program is installed, so the dialog based frontend cannot be used. at /usr/share/perl5/Debconf/FrontEnd/Dialog.pm line 78, <> line 9.)\n",
            "debconf: falling back to frontend: Readline\n",
            "debconf: unable to initialize frontend: Readline\n",
            "debconf: (This frontend requires a controlling tty.)\n",
            "debconf: falling back to frontend: Teletype\n",
            "dpkg-preconfigure: unable to re-open stdin: \n",
            "Selecting previously unselected package libpython3.9-minimal:amd64.\n",
            "(Reading database ... 126332 files and directories currently installed.)\n",
            "Preparing to unpack .../0-libpython3.9-minimal_3.9.22-1+jammy1_amd64.deb ...\n",
            "Unpacking libpython3.9-minimal:amd64 (3.9.22-1+jammy1) ...\n",
            "Selecting previously unselected package python3.9-minimal.\n",
            "Preparing to unpack .../1-python3.9-minimal_3.9.22-1+jammy1_amd64.deb ...\n",
            "Unpacking python3.9-minimal (3.9.22-1+jammy1) ...\n",
            "Selecting previously unselected package libpython3.9-stdlib:amd64.\n",
            "Preparing to unpack .../2-libpython3.9-stdlib_3.9.22-1+jammy1_amd64.deb ...\n",
            "Unpacking libpython3.9-stdlib:amd64 (3.9.22-1+jammy1) ...\n",
            "Selecting previously unselected package libpython3.9:amd64.\n",
            "Preparing to unpack .../3-libpython3.9_3.9.22-1+jammy1_amd64.deb ...\n",
            "Unpacking libpython3.9:amd64 (3.9.22-1+jammy1) ...\n",
            "Selecting previously unselected package libpython3.9-dev:amd64.\n",
            "Preparing to unpack .../4-libpython3.9-dev_3.9.22-1+jammy1_amd64.deb ...\n",
            "Unpacking libpython3.9-dev:amd64 (3.9.22-1+jammy1) ...\n",
            "Selecting previously unselected package python3.9.\n",
            "Preparing to unpack .../5-python3.9_3.9.22-1+jammy1_amd64.deb ...\n",
            "Unpacking python3.9 (3.9.22-1+jammy1) ...\n",
            "Selecting previously unselected package python3.9-dev.\n",
            "Preparing to unpack .../6-python3.9-dev_3.9.22-1+jammy1_amd64.deb ...\n",
            "Unpacking python3.9-dev (3.9.22-1+jammy1) ...\n",
            "Selecting previously unselected package python3.9-lib2to3.\n",
            "Preparing to unpack .../7-python3.9-lib2to3_3.9.22-1+jammy1_all.deb ...\n",
            "Unpacking python3.9-lib2to3 (3.9.22-1+jammy1) ...\n",
            "Selecting previously unselected package python3.9-distutils.\n",
            "Preparing to unpack .../8-python3.9-distutils_3.9.22-1+jammy1_all.deb ...\n",
            "Unpacking python3.9-distutils (3.9.22-1+jammy1) ...\n",
            "Setting up libpython3.9-minimal:amd64 (3.9.22-1+jammy1) ...\n",
            "Setting up python3.9-lib2to3 (3.9.22-1+jammy1) ...\n",
            "Setting up python3.9-distutils (3.9.22-1+jammy1) ...\n",
            "Setting up python3.9-minimal (3.9.22-1+jammy1) ...\n",
            "Setting up libpython3.9-stdlib:amd64 (3.9.22-1+jammy1) ...\n",
            "Setting up libpython3.9:amd64 (3.9.22-1+jammy1) ...\n",
            "Setting up python3.9 (3.9.22-1+jammy1) ...\n",
            "Setting up libpython3.9-dev:amd64 (3.9.22-1+jammy1) ...\n",
            "Setting up python3.9-dev (3.9.22-1+jammy1) ...\n",
            "Processing triggers for man-db (2.10.2-1) ...\n",
            "Processing triggers for mailcap (3.70+nmu1ubuntu1) ...\n"
          ]
        }
      ]
    },
    {
      "cell_type": "code",
      "source": [
        "!wget https://bootstrap.pypa.io/get-pip.py\n",
        "!python3.9 get-pip.py"
      ],
      "metadata": {
        "collapsed": true,
        "colab": {
          "base_uri": "https://localhost:8080/"
        },
        "id": "TMdj-dDvLYU1",
        "outputId": "695db590-25b1-477b-93f3-df62e26a2011"
      },
      "execution_count": 2,
      "outputs": [
        {
          "output_type": "stream",
          "name": "stdout",
          "text": [
            "--2025-04-22 16:18:11--  https://bootstrap.pypa.io/get-pip.py\n",
            "Resolving bootstrap.pypa.io (bootstrap.pypa.io)... 151.101.0.175, 151.101.64.175, 151.101.128.175, ...\n",
            "Connecting to bootstrap.pypa.io (bootstrap.pypa.io)|151.101.0.175|:443... connected.\n",
            "HTTP request sent, awaiting response... 200 OK\n",
            "Length: 2300175 (2.2M) [text/x-python]\n",
            "Saving to: ‘get-pip.py’\n",
            "\n",
            "get-pip.py          100%[===================>]   2.19M  --.-KB/s    in 0.05s   \n",
            "\n",
            "2025-04-22 16:18:11 (43.5 MB/s) - ‘get-pip.py’ saved [2300175/2300175]\n",
            "\n",
            "Collecting pip\n",
            "  Downloading pip-25.0.1-py3-none-any.whl.metadata (3.7 kB)\n",
            "Collecting setuptools\n",
            "  Downloading setuptools-79.0.0-py3-none-any.whl.metadata (6.5 kB)\n",
            "Collecting wheel\n",
            "  Downloading wheel-0.45.1-py3-none-any.whl.metadata (2.3 kB)\n",
            "Downloading pip-25.0.1-py3-none-any.whl (1.8 MB)\n",
            "\u001b[2K   \u001b[90m━━━━━━━━━━━━━━━━━━━━━━━━━━━━━━━━━━━━━━━━\u001b[0m \u001b[32m1.8/1.8 MB\u001b[0m \u001b[31m44.9 MB/s\u001b[0m eta \u001b[36m0:00:00\u001b[0m\n",
            "\u001b[?25hDownloading setuptools-79.0.0-py3-none-any.whl (1.3 MB)\n",
            "\u001b[2K   \u001b[90m━━━━━━━━━━━━━━━━━━━━━━━━━━━━━━━━━━━━━━━━\u001b[0m \u001b[32m1.3/1.3 MB\u001b[0m \u001b[31m64.5 MB/s\u001b[0m eta \u001b[36m0:00:00\u001b[0m\n",
            "\u001b[?25hDownloading wheel-0.45.1-py3-none-any.whl (72 kB)\n",
            "Installing collected packages: wheel, setuptools, pip\n",
            "Successfully installed pip-25.0.1 setuptools-79.0.0 wheel-0.45.1\n"
          ]
        }
      ]
    },
    {
      "cell_type": "code",
      "source": [
        "# import os\n",
        "# os.symlink('/usr/bin/python3.9', '/usr/bin/python')\n",
        "# os.system('python --version')"
      ],
      "metadata": {
        "colab": {
          "base_uri": "https://localhost:8080/"
        },
        "id": "K3p_wW9jLqC6",
        "outputId": "3d4f141c-4e03-405f-9e58-358b5034b25c"
      },
      "execution_count": 4,
      "outputs": [
        {
          "output_type": "execute_result",
          "data": {
            "text/plain": [
              "0"
            ]
          },
          "metadata": {},
          "execution_count": 4
        }
      ]
    },
    {
      "cell_type": "code",
      "source": [
        "!python --version"
      ],
      "metadata": {
        "colab": {
          "base_uri": "https://localhost:8080/"
        },
        "id": "jl7YAypgLwCH",
        "outputId": "9ea3002b-bbcd-41b3-f742-be17f4d8a517"
      },
      "execution_count": 5,
      "outputs": [
        {
          "output_type": "stream",
          "name": "stdout",
          "text": [
            "Python 3.11.12\n"
          ]
        }
      ]
    },
    {
      "source": [
        "# IMPORTANT: SOME KAGGLE DATA SOURCES ARE PRIVATE\n",
        "# RUN THIS CELL IN ORDER TO IMPORT YOUR KAGGLE DATA SOURCES.\n",
        "import kagglehub\n",
        "# kagglehub.login()\n",
        "kagglehub.login({\n",
        "    \"username\": \"varinkala\",\n",
        "    \"key\": \"fba0c1d00c2aeea2d68a62e6237aea93\"\n",
        "})\n",
        "\n",
        "# Username: varinkala\n",
        "# token: fba0c1d00c2aeea2d68a62e6237aea93"
      ],
      "metadata": {
        "colab": {
          "base_uri": "https://localhost:8080/",
          "height": 34,
          "referenced_widgets": [
            "aeeb2b60ee8547439273cef6b94923d5",
            "d2cf86627a7f4541b0368c88a7f90cd0",
            "28e630f79a1d40b088b4d5593c581876",
            "4c2efa2fb6da40608550fe7c196353e2",
            "3d111e24ffe54e5db0424a763f91e28b",
            "3747fa4a9f3f473583b5298941124930",
            "a16b1f49bc8d472396233daf11f6fa5e",
            "2ae6509afbd445dcb280779da3de5cf1",
            "2551feec926c43078a702faa93d9dc42",
            "c670110ea9e1449b9edd821aa01f348c",
            "703e3e0204364748a82c04ae73f4dd4c",
            "bf9ae5dd0a324504aff20a25fef732d1",
            "7f943993c8ec4eb9b31f922ac2a9a989",
            "77c9a828501145b28064f45503cac908",
            "9fbac1b9a06f43dd8cea00602be4ce12",
            "99ff9846a6724855a2ebcecf7add8b41",
            "ae2e3fe5ab314739a5cc5cb072464ae9",
            "02c238c160b54b52b3d504825d681c6a",
            "9c5d0fadec954a7181816b8748ae2a65",
            "ce79eb2836074b7d8c4e51169ae5a509"
          ]
        },
        "id": "2Mi7mRwdKtEA",
        "outputId": "71c9a04e-c3eb-4add-ab3d-b0750185d64c"
      },
      "cell_type": "code",
      "outputs": [
        {
          "output_type": "display_data",
          "data": {
            "text/plain": [
              "VBox(children=(HTML(value='<center> <img\\nsrc=https://www.kaggle.com/static/images/site-logo.png\\nalt=\\'Kaggle…"
            ],
            "application/vnd.jupyter.widget-view+json": {
              "version_major": 2,
              "version_minor": 0,
              "model_id": "aeeb2b60ee8547439273cef6b94923d5"
            }
          },
          "metadata": {}
        },
        {
          "output_type": "stream",
          "name": "stdout",
          "text": [
            "Kaggle credentials set.\n"
          ]
        }
      ],
      "execution_count": 29
    },
    {
      "source": [
        "# IMPORTANT: RUN THIS CELL IN ORDER TO IMPORT YOUR KAGGLE DATA SOURCES,\n",
        "# THEN FEEL FREE TO DELETE THIS CELL.\n",
        "# NOTE: THIS NOTEBOOK ENVIRONMENT DIFFERS FROM KAGGLE'S PYTHON\n",
        "# ENVIRONMENT SO THERE MAY BE MISSING LIBRARIES USED BY YOUR\n",
        "# NOTEBOOK.\n",
        "\n",
        "# varinkala_cv_a3_all_path = kagglehub.dataset_download('varinkala/cv-a3-all')\n",
        "\n",
        "# print('Data source import complete.')\n"
      ],
      "metadata": {
        "colab": {
          "base_uri": "https://localhost:8080/"
        },
        "id": "LNbVDvoAKtEE",
        "outputId": "fc7fcf00-ecc5-420a-9c60-b41c72ffa761"
      },
      "cell_type": "code",
      "outputs": [
        {
          "output_type": "stream",
          "name": "stdout",
          "text": [
            "Downloading from https://www.kaggle.com/api/v1/datasets/download/varinkala/cv-a3-all?dataset_version_number=5...\n"
          ]
        },
        {
          "output_type": "stream",
          "name": "stderr",
          "text": [
            "100%|██████████| 5.55G/5.55G [01:02<00:00, 94.9MB/s]"
          ]
        },
        {
          "output_type": "stream",
          "name": "stdout",
          "text": [
            "Extracting files...\n"
          ]
        },
        {
          "output_type": "stream",
          "name": "stderr",
          "text": [
            "\n"
          ]
        },
        {
          "output_type": "stream",
          "name": "stdout",
          "text": [
            "Data source import complete.\n"
          ]
        }
      ],
      "execution_count": 7
    },
    {
      "cell_type": "code",
      "source": [
        "# print(varinkala_cv_a3_all_path)"
      ],
      "metadata": {
        "colab": {
          "base_uri": "https://localhost:8080/"
        },
        "id": "nIR0epEwMkDl",
        "outputId": "3f04b98b-cc31-4b91-f260-0c95eb4fbaf1"
      },
      "execution_count": 8,
      "outputs": [
        {
          "output_type": "stream",
          "name": "stdout",
          "text": [
            "/root/.cache/kagglehub/datasets/varinkala/cv-a3-all/versions/5\n"
          ]
        }
      ]
    },
    {
      "cell_type": "code",
      "source": [
        "# # This Python 3 environment comes with many helpful analytics libraries installed\n",
        "# # It is defined by the kaggle/python Docker image: https://github.com/kaggle/docker-python\n",
        "# # For example, here's several helpful packages to load\n",
        "\n",
        "# import numpy as np # linear algebra\n",
        "# import pandas as pd # data processing, CSV file I/O (e.g. pd.read_csv)\n",
        "\n",
        "# # Input data files are available in the read-only \"../input/\" directory\n",
        "# # For example, running this (by clicking run or pressing Shift+Enter) will list all files under the input directory\n",
        "\n",
        "# import os\n",
        "# for dirname, _, filenames in os.walk(varinkala_cv_a3_all_path):\n",
        "#     for filename in filenames:\n",
        "#         print(os.path.join(dirname, filename))\n",
        "\n",
        "# # You can write up to 20GB to the current directory (/kaggle/working/) that gets preserved as output when you create a version using \"Save & Run All\"\n",
        "# # You can also write temporary files to /kaggle/temp/, but they won't be saved outside of the current session"
      ],
      "metadata": {
        "_uuid": "8f2839f25d086af736a60e9eeb907d3b93b6e0e5",
        "_cell_guid": "b1076dfc-b9ad-4769-8c92-a6c4dae69d19",
        "trusted": true,
        "execution": {
          "iopub.status.busy": "2025-04-20T15:40:09.909391Z",
          "iopub.execute_input": "2025-04-20T15:40:09.909694Z",
          "iopub.status.idle": "2025-04-20T15:40:09.944748Z",
          "shell.execute_reply.started": "2025-04-20T15:40:09.90967Z",
          "shell.execute_reply": "2025-04-20T15:40:09.943868Z"
        },
        "collapsed": true,
        "jupyter": {
          "outputs_hidden": true
        },
        "colab": {
          "base_uri": "https://localhost:8080/"
        },
        "id": "ykkJauZ-KtEF",
        "outputId": "0089e0a0-cab3-4e7d-f980-946f0b765ea1"
      },
      "outputs": [
        {
          "output_type": "stream",
          "name": "stdout",
          "text": [
            "/root/.cache/kagglehub/datasets/varinkala/cv-a3-all/versions/5/dinov2_vitl14_pretrain.pth\n",
            "/root/.cache/kagglehub/datasets/varinkala/cv-a3-all/versions/5/swint_only_sam_many2many.pth\n",
            "/root/.cache/kagglehub/datasets/varinkala/cv-a3-all/versions/5/sample_image.jpg\n",
            "/root/.cache/kagglehub/datasets/varinkala/cv-a3-all/versions/5/reference.txt\n",
            "/root/.cache/kagglehub/datasets/varinkala/cv-a3-all/versions/5/refcoco.pth\n",
            "/root/.cache/kagglehub/datasets/varinkala/cv-a3-all/versions/5/sam_vit_h_4b8939.pth\n",
            "/root/.cache/kagglehub/datasets/varinkala/cv-a3-all/versions/5/Images-20250418T060633Z-001/Images/backpack/00.jpg\n",
            "/root/.cache/kagglehub/datasets/varinkala/cv-a3-all/versions/5/Images-20250418T060633Z-001/Images/backpack/05.jpg\n",
            "/root/.cache/kagglehub/datasets/varinkala/cv-a3-all/versions/5/Images-20250418T060633Z-001/Images/backpack_dog/00.jpg\n",
            "/root/.cache/kagglehub/datasets/varinkala/cv-a3-all/versions/5/Images-20250418T060633Z-001/Images/backpack_dog/01.jpg\n",
            "/root/.cache/kagglehub/datasets/varinkala/cv-a3-all/versions/5/Images-20250418T060633Z-001/Images/cat_statue/00.jpg\n",
            "/root/.cache/kagglehub/datasets/varinkala/cv-a3-all/versions/5/Images-20250418T060633Z-001/Images/cat_statue/01.jpg\n",
            "/root/.cache/kagglehub/datasets/varinkala/cv-a3-all/versions/5/Images-20250418T060633Z-001/Images/barn/00.jpg\n",
            "/root/.cache/kagglehub/datasets/varinkala/cv-a3-all/versions/5/Images-20250418T060633Z-001/Images/barn/01.jpg\n",
            "/root/.cache/kagglehub/datasets/varinkala/cv-a3-all/versions/5/Images-20250418T060633Z-001/Images/can/00.jpg\n",
            "/root/.cache/kagglehub/datasets/varinkala/cv-a3-all/versions/5/Images-20250418T060633Z-001/Images/can/01.jpg\n",
            "/root/.cache/kagglehub/datasets/varinkala/cv-a3-all/versions/5/Images-20250418T060633Z-001/Images/clock/00.jpg\n",
            "/root/.cache/kagglehub/datasets/varinkala/cv-a3-all/versions/5/Images-20250418T060633Z-001/Images/clock/01.jpg\n",
            "/root/.cache/kagglehub/datasets/varinkala/cv-a3-all/versions/5/Images-20250418T060633Z-001/Images/berry_bowl/00.jpg\n",
            "/root/.cache/kagglehub/datasets/varinkala/cv-a3-all/versions/5/Images-20250418T060633Z-001/Images/berry_bowl/01.jpg\n",
            "/root/.cache/kagglehub/datasets/varinkala/cv-a3-all/versions/5/Images-20250418T060633Z-001/Images/chair/00.jpg\n",
            "/root/.cache/kagglehub/datasets/varinkala/cv-a3-all/versions/5/Images-20250418T060633Z-001/Images/chair/01.jpg\n",
            "/root/.cache/kagglehub/datasets/varinkala/cv-a3-all/versions/5/Images-20250418T060633Z-001/Images/dog2/00.jpg\n",
            "/root/.cache/kagglehub/datasets/varinkala/cv-a3-all/versions/5/Images-20250418T060633Z-001/Images/dog2/01.jpg\n",
            "/root/.cache/kagglehub/datasets/varinkala/cv-a3-all/versions/5/Images-20250418T060633Z-001/Images/colorful_sneaker/00.jpg\n",
            "/root/.cache/kagglehub/datasets/varinkala/cv-a3-all/versions/5/Images-20250418T060633Z-001/Images/colorful_sneaker/01.jpg\n",
            "/root/.cache/kagglehub/datasets/varinkala/cv-a3-all/versions/5/Images-20250418T060633Z-001/Images/bear_plushie/00.jpg\n",
            "/root/.cache/kagglehub/datasets/varinkala/cv-a3-all/versions/5/Images-20250418T060633Z-001/Images/bear_plushie/01.jpg\n",
            "/root/.cache/kagglehub/datasets/varinkala/cv-a3-all/versions/5/Images-20250418T060633Z-001/Images/cat/00.jpg\n",
            "/root/.cache/kagglehub/datasets/varinkala/cv-a3-all/versions/5/Images-20250418T060633Z-001/Images/cat/01.jpg\n",
            "/root/.cache/kagglehub/datasets/varinkala/cv-a3-all/versions/5/Images-20250418T060633Z-001/Images/colorful_teapot/00.jpg\n",
            "/root/.cache/kagglehub/datasets/varinkala/cv-a3-all/versions/5/Images-20250418T060633Z-001/Images/colorful_teapot/01.jpg\n",
            "/root/.cache/kagglehub/datasets/varinkala/cv-a3-all/versions/5/Images-20250418T060633Z-001/Images/cat2/00.jpg\n",
            "/root/.cache/kagglehub/datasets/varinkala/cv-a3-all/versions/5/Images-20250418T060633Z-001/Images/cat2/01.jpg\n",
            "/root/.cache/kagglehub/datasets/varinkala/cv-a3-all/versions/5/Images-20250418T060633Z-001/Images/dog3/00.jpg\n",
            "/root/.cache/kagglehub/datasets/varinkala/cv-a3-all/versions/5/Images-20250418T060633Z-001/Images/dog3/01.jpg\n",
            "/root/.cache/kagglehub/datasets/varinkala/cv-a3-all/versions/5/Images-20250418T060633Z-001/Images/candle/00.jpg\n",
            "/root/.cache/kagglehub/datasets/varinkala/cv-a3-all/versions/5/Images-20250418T060633Z-001/Images/candle/01.jpg\n",
            "/root/.cache/kagglehub/datasets/varinkala/cv-a3-all/versions/5/Images-20250418T060633Z-001/Images/dog/03.jpg\n",
            "/root/.cache/kagglehub/datasets/varinkala/cv-a3-all/versions/5/Images-20250418T060633Z-001/Images/dog/00.jpg\n",
            "/root/.cache/kagglehub/datasets/varinkala/cv-a3-all/versions/5/samples-20250417T083449Z-001/samples/ILSVRC2012_test_00000018.jpg\n",
            "/root/.cache/kagglehub/datasets/varinkala/cv-a3-all/versions/5/samples-20250417T083449Z-001/samples/ILSVRC2012_test_00000030.jpg\n",
            "/root/.cache/kagglehub/datasets/varinkala/cv-a3-all/versions/5/samples-20250417T083449Z-001/samples/ILSVRC2012_test_00000022.jpg\n",
            "/root/.cache/kagglehub/datasets/varinkala/cv-a3-all/versions/5/samples-20250417T083449Z-001/samples/ILSVRC2012_test_00000023.jpg\n",
            "/root/.cache/kagglehub/datasets/varinkala/cv-a3-all/versions/5/samples-20250417T083449Z-001/samples/ILSVRC2012_test_00000025.jpg\n",
            "/root/.cache/kagglehub/datasets/varinkala/cv-a3-all/versions/5/samples-20250417T083449Z-001/samples/ILSVRC2012_test_00000004.jpg\n",
            "/root/.cache/kagglehub/datasets/varinkala/cv-a3-all/versions/5/samples-20250417T083449Z-001/samples/ILSVRC2012_test_00000019.jpg\n",
            "/root/.cache/kagglehub/datasets/varinkala/cv-a3-all/versions/5/samples-20250417T083449Z-001/samples/ILSVRC2012_test_00000034.jpg\n",
            "/root/.cache/kagglehub/datasets/varinkala/cv-a3-all/versions/5/samples-20250417T083449Z-001/samples/ILSVRC2012_test_00000026.jpg\n",
            "/root/.cache/kagglehub/datasets/varinkala/cv-a3-all/versions/5/samples-20250417T083449Z-001/samples/ILSVRC2012_test_00000003.jpg\n"
          ]
        }
      ],
      "execution_count": 9
    },
    {
      "cell_type": "code",
      "source": [
        "# import numpy as np\n",
        "# import matplotlib.pyplot as plt\n",
        "# import torch\n",
        "# from PIL import Image\n",
        "# import torch.nn.functional as F\n",
        "# import argparse\n",
        "# import os"
      ],
      "metadata": {
        "trusted": true,
        "execution": {
          "iopub.status.busy": "2025-04-20T15:40:09.946417Z",
          "iopub.execute_input": "2025-04-20T15:40:09.947194Z",
          "iopub.status.idle": "2025-04-20T15:40:15.562125Z",
          "shell.execute_reply.started": "2025-04-20T15:40:09.947037Z",
          "shell.execute_reply": "2025-04-20T15:40:15.561281Z"
        },
        "id": "3xMorBF3KtEG"
      },
      "outputs": [],
      "execution_count": null
    },
    {
      "cell_type": "code",
      "source": [],
      "metadata": {
        "trusted": true,
        "id": "UWgoa4rtKtEG"
      },
      "outputs": [],
      "execution_count": null
    },
    {
      "cell_type": "markdown",
      "source": [
        "# 5. Image as Reference"
      ],
      "metadata": {
        "id": "K220RdcQKtEG"
      }
    },
    {
      "cell_type": "code",
      "source": [
        "!git clone https://github.com/facebookresearch/detectron2.git"
      ],
      "metadata": {
        "trusted": true,
        "execution": {
          "iopub.status.busy": "2025-04-20T15:40:15.562949Z",
          "iopub.execute_input": "2025-04-20T15:40:15.563323Z",
          "iopub.status.idle": "2025-04-20T15:40:17.254324Z",
          "shell.execute_reply.started": "2025-04-20T15:40:15.563303Z",
          "shell.execute_reply": "2025-04-20T15:40:17.251985Z"
        },
        "colab": {
          "base_uri": "https://localhost:8080/"
        },
        "collapsed": true,
        "id": "idx7Qs66KtEI",
        "outputId": "64e0596e-c819-4c7c-d17e-7018c25ec904"
      },
      "outputs": [
        {
          "output_type": "stream",
          "name": "stdout",
          "text": [
            "Cloning into 'detectron2'...\n",
            "remote: Enumerating objects: 15842, done.\u001b[K\n",
            "remote: Counting objects: 100% (70/70), done.\u001b[K\n",
            "remote: Compressing objects: 100% (58/58), done.\u001b[K\n",
            "remote: Total 15842 (delta 33), reused 13 (delta 12), pack-reused 15772 (from 2)\u001b[K\n",
            "Receiving objects: 100% (15842/15842), 6.40 MiB | 11.17 MiB/s, done.\n",
            "Resolving deltas: 100% (11536/11536), done.\n"
          ]
        }
      ],
      "execution_count": 3
    },
    {
      "cell_type": "code",
      "source": [
        "!python -m pip install -e detectron2"
      ],
      "metadata": {
        "trusted": true,
        "execution": {
          "iopub.status.busy": "2025-04-20T15:40:17.257364Z",
          "iopub.execute_input": "2025-04-20T15:40:17.257699Z",
          "iopub.status.idle": "2025-04-20T15:41:46.796034Z",
          "shell.execute_reply.started": "2025-04-20T15:40:17.257671Z",
          "shell.execute_reply": "2025-04-20T15:41:46.794908Z"
        },
        "collapsed": true,
        "jupyter": {
          "outputs_hidden": true
        },
        "colab": {
          "base_uri": "https://localhost:8080/"
        },
        "id": "NUjwYlkdKtEI",
        "outputId": "9f51edd0-5c95-4094-bf0f-0860cb4c7a86"
      },
      "outputs": [
        {
          "output_type": "stream",
          "name": "stdout",
          "text": [
            "Obtaining file:///content/detectron2\n",
            "  Preparing metadata (setup.py) ... \u001b[?25l\u001b[?25hdone\n",
            "Requirement already satisfied: Pillow>=7.1 in /usr/local/lib/python3.11/dist-packages (from detectron2==0.6) (11.1.0)\n",
            "Requirement already satisfied: matplotlib in /usr/local/lib/python3.11/dist-packages (from detectron2==0.6) (3.10.0)\n",
            "Requirement already satisfied: pycocotools>=2.0.2 in /usr/local/lib/python3.11/dist-packages (from detectron2==0.6) (2.0.8)\n",
            "Requirement already satisfied: termcolor>=1.1 in /usr/local/lib/python3.11/dist-packages (from detectron2==0.6) (3.0.1)\n",
            "Collecting yacs>=0.1.8 (from detectron2==0.6)\n",
            "  Downloading yacs-0.1.8-py3-none-any.whl.metadata (639 bytes)\n",
            "Requirement already satisfied: tabulate in /usr/local/lib/python3.11/dist-packages (from detectron2==0.6) (0.9.0)\n",
            "Requirement already satisfied: cloudpickle in /usr/local/lib/python3.11/dist-packages (from detectron2==0.6) (3.1.1)\n",
            "Requirement already satisfied: tqdm>4.29.0 in /usr/local/lib/python3.11/dist-packages (from detectron2==0.6) (4.67.1)\n",
            "Requirement already satisfied: tensorboard in /usr/local/lib/python3.11/dist-packages (from detectron2==0.6) (2.18.0)\n",
            "Collecting fvcore<0.1.6,>=0.1.5 (from detectron2==0.6)\n",
            "  Downloading fvcore-0.1.5.post20221221.tar.gz (50 kB)\n",
            "\u001b[2K     \u001b[90m━━━━━━━━━━━━━━━━━━━━━━━━━━━━━━━━━━━━━━━━\u001b[0m \u001b[32m50.2/50.2 kB\u001b[0m \u001b[31m2.9 MB/s\u001b[0m eta \u001b[36m0:00:00\u001b[0m\n",
            "\u001b[?25h  Preparing metadata (setup.py) ... \u001b[?25l\u001b[?25hdone\n",
            "Collecting iopath<0.1.10,>=0.1.7 (from detectron2==0.6)\n",
            "  Downloading iopath-0.1.9-py3-none-any.whl.metadata (370 bytes)\n",
            "Collecting omegaconf<2.4,>=2.1 (from detectron2==0.6)\n",
            "  Downloading omegaconf-2.3.0-py3-none-any.whl.metadata (3.9 kB)\n",
            "Collecting hydra-core>=1.1 (from detectron2==0.6)\n",
            "  Downloading hydra_core-1.3.2-py3-none-any.whl.metadata (5.5 kB)\n",
            "Collecting black (from detectron2==0.6)\n",
            "  Downloading black-25.1.0-cp311-cp311-manylinux_2_17_x86_64.manylinux2014_x86_64.manylinux_2_28_x86_64.whl.metadata (81 kB)\n",
            "\u001b[2K     \u001b[90m━━━━━━━━━━━━━━━━━━━━━━━━━━━━━━━━━━━━━━━━\u001b[0m \u001b[32m81.3/81.3 kB\u001b[0m \u001b[31m5.2 MB/s\u001b[0m eta \u001b[36m0:00:00\u001b[0m\n",
            "\u001b[?25hRequirement already satisfied: packaging in /usr/local/lib/python3.11/dist-packages (from detectron2==0.6) (24.2)\n",
            "Requirement already satisfied: numpy in /usr/local/lib/python3.11/dist-packages (from fvcore<0.1.6,>=0.1.5->detectron2==0.6) (2.0.2)\n",
            "Requirement already satisfied: pyyaml>=5.1 in /usr/local/lib/python3.11/dist-packages (from fvcore<0.1.6,>=0.1.5->detectron2==0.6) (6.0.2)\n",
            "Collecting antlr4-python3-runtime==4.9.* (from hydra-core>=1.1->detectron2==0.6)\n",
            "  Downloading antlr4-python3-runtime-4.9.3.tar.gz (117 kB)\n",
            "\u001b[2K     \u001b[90m━━━━━━━━━━━━━━━━━━━━━━━━━━━━━━━━━━━━━━\u001b[0m \u001b[32m117.0/117.0 kB\u001b[0m \u001b[31m12.9 MB/s\u001b[0m eta \u001b[36m0:00:00\u001b[0m\n",
            "\u001b[?25h  Preparing metadata (setup.py) ... \u001b[?25l\u001b[?25hdone\n",
            "Collecting portalocker (from iopath<0.1.10,>=0.1.7->detectron2==0.6)\n",
            "  Downloading portalocker-3.1.1-py3-none-any.whl.metadata (8.6 kB)\n",
            "Requirement already satisfied: contourpy>=1.0.1 in /usr/local/lib/python3.11/dist-packages (from matplotlib->detectron2==0.6) (1.3.2)\n",
            "Requirement already satisfied: cycler>=0.10 in /usr/local/lib/python3.11/dist-packages (from matplotlib->detectron2==0.6) (0.12.1)\n",
            "Requirement already satisfied: fonttools>=4.22.0 in /usr/local/lib/python3.11/dist-packages (from matplotlib->detectron2==0.6) (4.57.0)\n",
            "Requirement already satisfied: kiwisolver>=1.3.1 in /usr/local/lib/python3.11/dist-packages (from matplotlib->detectron2==0.6) (1.4.8)\n",
            "Requirement already satisfied: pyparsing>=2.3.1 in /usr/local/lib/python3.11/dist-packages (from matplotlib->detectron2==0.6) (3.2.3)\n",
            "Requirement already satisfied: python-dateutil>=2.7 in /usr/local/lib/python3.11/dist-packages (from matplotlib->detectron2==0.6) (2.8.2)\n",
            "Requirement already satisfied: click>=8.0.0 in /usr/local/lib/python3.11/dist-packages (from black->detectron2==0.6) (8.1.8)\n",
            "Collecting mypy-extensions>=0.4.3 (from black->detectron2==0.6)\n",
            "  Downloading mypy_extensions-1.1.0-py3-none-any.whl.metadata (1.1 kB)\n",
            "Collecting pathspec>=0.9.0 (from black->detectron2==0.6)\n",
            "  Downloading pathspec-0.12.1-py3-none-any.whl.metadata (21 kB)\n",
            "Requirement already satisfied: platformdirs>=2 in /usr/local/lib/python3.11/dist-packages (from black->detectron2==0.6) (4.3.7)\n",
            "Requirement already satisfied: absl-py>=0.4 in /usr/local/lib/python3.11/dist-packages (from tensorboard->detectron2==0.6) (1.4.0)\n",
            "Requirement already satisfied: grpcio>=1.48.2 in /usr/local/lib/python3.11/dist-packages (from tensorboard->detectron2==0.6) (1.71.0)\n",
            "Requirement already satisfied: markdown>=2.6.8 in /usr/local/lib/python3.11/dist-packages (from tensorboard->detectron2==0.6) (3.8)\n",
            "Requirement already satisfied: protobuf!=4.24.0,>=3.19.6 in /usr/local/lib/python3.11/dist-packages (from tensorboard->detectron2==0.6) (5.29.4)\n",
            "Requirement already satisfied: setuptools>=41.0.0 in /usr/local/lib/python3.11/dist-packages (from tensorboard->detectron2==0.6) (75.2.0)\n",
            "Requirement already satisfied: six>1.9 in /usr/local/lib/python3.11/dist-packages (from tensorboard->detectron2==0.6) (1.17.0)\n",
            "Requirement already satisfied: tensorboard-data-server<0.8.0,>=0.7.0 in /usr/local/lib/python3.11/dist-packages (from tensorboard->detectron2==0.6) (0.7.2)\n",
            "Requirement already satisfied: werkzeug>=1.0.1 in /usr/local/lib/python3.11/dist-packages (from tensorboard->detectron2==0.6) (3.1.3)\n",
            "Requirement already satisfied: MarkupSafe>=2.1.1 in /usr/local/lib/python3.11/dist-packages (from werkzeug>=1.0.1->tensorboard->detectron2==0.6) (3.0.2)\n",
            "Downloading hydra_core-1.3.2-py3-none-any.whl (154 kB)\n",
            "\u001b[2K   \u001b[90m━━━━━━━━━━━━━━━━━━━━━━━━━━━━━━━━━━━━━━━━\u001b[0m \u001b[32m154.5/154.5 kB\u001b[0m \u001b[31m14.6 MB/s\u001b[0m eta \u001b[36m0:00:00\u001b[0m\n",
            "\u001b[?25hDownloading iopath-0.1.9-py3-none-any.whl (27 kB)\n",
            "Downloading omegaconf-2.3.0-py3-none-any.whl (79 kB)\n",
            "\u001b[2K   \u001b[90m━━━━━━━━━━━━━━━━━━━━━━━━━━━━━━━━━━━━━━━━\u001b[0m \u001b[32m79.5/79.5 kB\u001b[0m \u001b[31m8.7 MB/s\u001b[0m eta \u001b[36m0:00:00\u001b[0m\n",
            "\u001b[?25hDownloading yacs-0.1.8-py3-none-any.whl (14 kB)\n",
            "Downloading black-25.1.0-cp311-cp311-manylinux_2_17_x86_64.manylinux2014_x86_64.manylinux_2_28_x86_64.whl (1.7 MB)\n",
            "\u001b[2K   \u001b[90m━━━━━━━━━━━━━━━━━━━━━━━━━━━━━━━━━━━━━━━━\u001b[0m \u001b[32m1.7/1.7 MB\u001b[0m \u001b[31m49.4 MB/s\u001b[0m eta \u001b[36m0:00:00\u001b[0m\n",
            "\u001b[?25hDownloading mypy_extensions-1.1.0-py3-none-any.whl (5.0 kB)\n",
            "Downloading pathspec-0.12.1-py3-none-any.whl (31 kB)\n",
            "Downloading portalocker-3.1.1-py3-none-any.whl (19 kB)\n",
            "Building wheels for collected packages: fvcore, antlr4-python3-runtime\n",
            "  Building wheel for fvcore (setup.py) ... \u001b[?25l\u001b[?25hdone\n",
            "  Created wheel for fvcore: filename=fvcore-0.1.5.post20221221-py3-none-any.whl size=61397 sha256=f7dd445d1d4ac01e56499e968e139190780c835afbf4e02d6c2b8925cafbb7fe\n",
            "  Stored in directory: /root/.cache/pip/wheels/65/71/95/3b8fde5c65c6e4a806e0867c1651dcc71a1cb2f3430e8f355f\n",
            "  Building wheel for antlr4-python3-runtime (setup.py) ... \u001b[?25l\u001b[?25hdone\n",
            "  Created wheel for antlr4-python3-runtime: filename=antlr4_python3_runtime-4.9.3-py3-none-any.whl size=144554 sha256=8dd34a47f3e94389125f1c63ff80a20dd28ef463bd56b97bd26241eae12e8019\n",
            "  Stored in directory: /root/.cache/pip/wheels/1a/97/32/461f837398029ad76911109f07047fde1d7b661a147c7c56d1\n",
            "Successfully built fvcore antlr4-python3-runtime\n",
            "Installing collected packages: antlr4-python3-runtime, yacs, portalocker, pathspec, omegaconf, mypy-extensions, iopath, hydra-core, black, fvcore, detectron2\n",
            "  Running setup.py develop for detectron2\n",
            "Successfully installed antlr4-python3-runtime-4.9.3 black-25.1.0 detectron2-0.6 fvcore-0.1.5.post20221221 hydra-core-1.3.2 iopath-0.1.9 mypy-extensions-1.1.0 omegaconf-2.3.0 pathspec-0.12.1 portalocker-3.1.1 yacs-0.1.8\n"
          ]
        }
      ],
      "execution_count": 4
    },
    {
      "cell_type": "code",
      "source": [
        "!git clone https://github.com/aim-uofa/Matcher.git"
      ],
      "metadata": {
        "trusted": true,
        "execution": {
          "iopub.status.busy": "2025-04-20T15:41:46.797433Z",
          "iopub.execute_input": "2025-04-20T15:41:46.797844Z",
          "iopub.status.idle": "2025-04-20T15:41:48.712181Z",
          "shell.execute_reply.started": "2025-04-20T15:41:46.797737Z",
          "shell.execute_reply": "2025-04-20T15:41:48.710761Z"
        },
        "collapsed": true,
        "colab": {
          "base_uri": "https://localhost:8080/"
        },
        "id": "MFnJCwUgKtEJ",
        "outputId": "d858abab-cc4f-4004-bdfd-612e4b469e8a"
      },
      "outputs": [
        {
          "output_type": "stream",
          "name": "stdout",
          "text": [
            "Cloning into 'Matcher'...\n",
            "remote: Enumerating objects: 500, done.\u001b[K\n",
            "remote: Counting objects: 100% (37/37), done.\u001b[K\n",
            "remote: Compressing objects: 100% (27/27), done.\u001b[K\n",
            "remote: Total 500 (delta 22), reused 12 (delta 10), pack-reused 463 (from 1)\u001b[K\n",
            "Receiving objects: 100% (500/500), 26.47 MiB | 20.37 MiB/s, done.\n",
            "Resolving deltas: 100% (105/105), done.\n"
          ]
        }
      ],
      "execution_count": 5
    },
    {
      "cell_type": "code",
      "source": [
        "!pwd\n",
        "!ls"
      ],
      "metadata": {
        "colab": {
          "base_uri": "https://localhost:8080/"
        },
        "id": "hQGF8mCAOueC",
        "outputId": "6257aa67-d632-45d2-f047-cc05cd14fa05"
      },
      "execution_count": 6,
      "outputs": [
        {
          "output_type": "stream",
          "name": "stdout",
          "text": [
            "/content\n",
            "detectron2  get-pip.py\tMatcher  sample_data\n"
          ]
        }
      ]
    },
    {
      "cell_type": "code",
      "source": [
        "%cd Matcher"
      ],
      "metadata": {
        "trusted": true,
        "execution": {
          "iopub.status.busy": "2025-04-20T15:41:48.714094Z",
          "iopub.execute_input": "2025-04-20T15:41:48.714489Z",
          "iopub.status.idle": "2025-04-20T15:41:48.725406Z",
          "shell.execute_reply.started": "2025-04-20T15:41:48.714451Z",
          "shell.execute_reply": "2025-04-20T15:41:48.72425Z"
        },
        "colab": {
          "base_uri": "https://localhost:8080/"
        },
        "id": "cZ8Pza-nKtEJ",
        "outputId": "7606c783-04e4-441c-c642-a14e1b48f0d5"
      },
      "outputs": [
        {
          "output_type": "stream",
          "name": "stdout",
          "text": [
            "/content/Matcher\n"
          ]
        }
      ],
      "execution_count": 7
    },
    {
      "cell_type": "code",
      "source": [
        "!python3.9 -m pip install future==0.18.2 gradio==3.32.0 gradio-client==0.2.5 matplotlib==3.3.4 torch==1.13.1 torchvision==0.14.1"
      ],
      "metadata": {
        "trusted": true,
        "execution": {
          "iopub.status.busy": "2025-04-20T15:41:48.726598Z",
          "iopub.execute_input": "2025-04-20T15:41:48.727161Z",
          "iopub.status.idle": "2025-04-20T15:41:57.585225Z",
          "shell.execute_reply.started": "2025-04-20T15:41:48.727123Z",
          "shell.execute_reply": "2025-04-20T15:41:57.584082Z"
        },
        "collapsed": true,
        "jupyter": {
          "outputs_hidden": true
        },
        "colab": {
          "base_uri": "https://localhost:8080/"
        },
        "id": "ESaH4FXqKtEJ",
        "outputId": "9e20767c-e31a-49d7-ae4a-a14f2afe7eb5"
      },
      "outputs": [
        {
          "output_type": "stream",
          "name": "stdout",
          "text": [
            "Collecting future==0.18.2\n",
            "  Downloading future-0.18.2.tar.gz (829 kB)\n",
            "\u001b[?25l     \u001b[90m━━━━━━━━━━━━━━━━━━━━━━━━━━━━━━━━━━━━━━━━\u001b[0m \u001b[32m0.0/829.2 kB\u001b[0m \u001b[31m?\u001b[0m eta \u001b[36m-:--:--\u001b[0m\r\u001b[2K     \u001b[90m━━━━━━━━━━━━━━━━━━━━━━━━━━━━━━━━━━━━━━\u001b[0m \u001b[32m829.2/829.2 kB\u001b[0m \u001b[31m21.0 MB/s\u001b[0m eta \u001b[36m0:00:00\u001b[0m\n",
            "\u001b[?25h  Preparing metadata (setup.py) ... \u001b[?25l\u001b[?25hdone\n",
            "Collecting gradio==3.32.0\n",
            "  Downloading gradio-3.32.0-py3-none-any.whl.metadata (14 kB)\n",
            "Collecting gradio-client==0.2.5\n",
            "  Downloading gradio_client-0.2.5-py3-none-any.whl.metadata (6.4 kB)\n",
            "Collecting matplotlib==3.3.4\n",
            "  Downloading matplotlib-3.3.4-cp39-cp39-manylinux1_x86_64.whl.metadata (5.7 kB)\n",
            "Collecting torch==1.13.1\n",
            "  Downloading torch-1.13.1-cp39-cp39-manylinux1_x86_64.whl.metadata (24 kB)\n",
            "Collecting torchvision==0.14.1\n",
            "  Downloading torchvision-0.14.1-cp39-cp39-manylinux1_x86_64.whl.metadata (11 kB)\n",
            "Collecting aiofiles (from gradio==3.32.0)\n",
            "  Downloading aiofiles-24.1.0-py3-none-any.whl.metadata (10 kB)\n",
            "Collecting aiohttp (from gradio==3.32.0)\n",
            "  Downloading aiohttp-3.11.18-cp39-cp39-manylinux_2_17_x86_64.manylinux2014_x86_64.whl.metadata (7.7 kB)\n",
            "Collecting altair>=4.2.0 (from gradio==3.32.0)\n",
            "  Downloading altair-5.5.0-py3-none-any.whl.metadata (11 kB)\n",
            "Collecting fastapi (from gradio==3.32.0)\n",
            "  Downloading fastapi-0.115.12-py3-none-any.whl.metadata (27 kB)\n",
            "Collecting ffmpy (from gradio==3.32.0)\n",
            "  Downloading ffmpy-0.5.0-py3-none-any.whl.metadata (3.0 kB)\n",
            "Collecting httpx (from gradio==3.32.0)\n",
            "  Downloading httpx-0.28.1-py3-none-any.whl.metadata (7.1 kB)\n",
            "Collecting huggingface-hub>=0.13.0 (from gradio==3.32.0)\n",
            "  Downloading huggingface_hub-0.30.2-py3-none-any.whl.metadata (13 kB)\n",
            "Collecting jinja2 (from gradio==3.32.0)\n",
            "  Downloading jinja2-3.1.6-py3-none-any.whl.metadata (2.9 kB)\n",
            "Collecting markdown-it-py>=2.0.0 (from markdown-it-py[linkify]>=2.0.0->gradio==3.32.0)\n",
            "  Downloading markdown_it_py-3.0.0-py3-none-any.whl.metadata (6.9 kB)\n",
            "Requirement already satisfied: markupsafe in /usr/lib/python3/dist-packages (from gradio==3.32.0) (2.0.1)\n",
            "Collecting mdit-py-plugins<=0.3.3 (from gradio==3.32.0)\n",
            "  Downloading mdit_py_plugins-0.3.3-py3-none-any.whl.metadata (2.8 kB)\n",
            "Collecting numpy (from gradio==3.32.0)\n",
            "  Downloading numpy-2.0.2-cp39-cp39-manylinux_2_17_x86_64.manylinux2014_x86_64.whl.metadata (60 kB)\n",
            "Collecting orjson (from gradio==3.32.0)\n",
            "  Downloading orjson-3.10.16-cp39-cp39-manylinux_2_17_x86_64.manylinux2014_x86_64.whl.metadata (41 kB)\n",
            "Collecting pandas (from gradio==3.32.0)\n",
            "  Downloading pandas-2.2.3-cp39-cp39-manylinux_2_17_x86_64.manylinux2014_x86_64.whl.metadata (89 kB)\n",
            "Collecting pillow (from gradio==3.32.0)\n",
            "  Downloading pillow-11.2.1-cp39-cp39-manylinux_2_28_x86_64.whl.metadata (8.9 kB)\n",
            "Collecting pydantic (from gradio==3.32.0)\n",
            "  Downloading pydantic-2.11.3-py3-none-any.whl.metadata (65 kB)\n",
            "Collecting pydub (from gradio==3.32.0)\n",
            "  Downloading pydub-0.25.1-py2.py3-none-any.whl.metadata (1.4 kB)\n",
            "Collecting pygments>=2.12.0 (from gradio==3.32.0)\n",
            "  Downloading pygments-2.19.1-py3-none-any.whl.metadata (2.5 kB)\n",
            "Collecting python-multipart (from gradio==3.32.0)\n",
            "  Downloading python_multipart-0.0.20-py3-none-any.whl.metadata (1.8 kB)\n",
            "Collecting pyyaml (from gradio==3.32.0)\n",
            "  Downloading PyYAML-6.0.2-cp39-cp39-manylinux_2_17_x86_64.manylinux2014_x86_64.whl.metadata (2.1 kB)\n",
            "Collecting requests (from gradio==3.32.0)\n",
            "  Downloading requests-2.32.3-py3-none-any.whl.metadata (4.6 kB)\n",
            "Collecting semantic-version (from gradio==3.32.0)\n",
            "  Downloading semantic_version-2.10.0-py2.py3-none-any.whl.metadata (9.7 kB)\n",
            "Collecting typing-extensions (from gradio==3.32.0)\n",
            "  Downloading typing_extensions-4.13.2-py3-none-any.whl.metadata (3.0 kB)\n",
            "Collecting uvicorn>=0.14.0 (from gradio==3.32.0)\n",
            "  Downloading uvicorn-0.34.2-py3-none-any.whl.metadata (6.5 kB)\n",
            "Collecting websockets>=10.0 (from gradio==3.32.0)\n",
            "  Downloading websockets-15.0.1-cp39-cp39-manylinux_2_5_x86_64.manylinux1_x86_64.manylinux_2_17_x86_64.manylinux2014_x86_64.whl.metadata (6.8 kB)\n",
            "Collecting fsspec (from gradio-client==0.2.5)\n",
            "  Downloading fsspec-2025.3.2-py3-none-any.whl.metadata (11 kB)\n",
            "Collecting packaging (from gradio-client==0.2.5)\n",
            "  Downloading packaging-25.0-py3-none-any.whl.metadata (3.3 kB)\n",
            "Collecting cycler>=0.10 (from matplotlib==3.3.4)\n",
            "  Downloading cycler-0.12.1-py3-none-any.whl.metadata (3.8 kB)\n",
            "Collecting kiwisolver>=1.0.1 (from matplotlib==3.3.4)\n",
            "  Downloading kiwisolver-1.4.7-cp39-cp39-manylinux_2_12_x86_64.manylinux2010_x86_64.whl.metadata (6.3 kB)\n",
            "Requirement already satisfied: pyparsing!=2.0.4,!=2.1.2,!=2.1.6,>=2.0.3 in /usr/lib/python3/dist-packages (from matplotlib==3.3.4) (2.4.7)\n",
            "Collecting python-dateutil>=2.1 (from matplotlib==3.3.4)\n",
            "  Downloading python_dateutil-2.9.0.post0-py2.py3-none-any.whl.metadata (8.4 kB)\n",
            "Collecting nvidia-cuda-runtime-cu11==11.7.99 (from torch==1.13.1)\n",
            "  Downloading nvidia_cuda_runtime_cu11-11.7.99-py3-none-manylinux1_x86_64.whl.metadata (1.6 kB)\n",
            "Collecting nvidia-cudnn-cu11==8.5.0.96 (from torch==1.13.1)\n",
            "  Downloading nvidia_cudnn_cu11-8.5.0.96-2-py3-none-manylinux1_x86_64.whl.metadata (1.6 kB)\n",
            "Collecting nvidia-cublas-cu11==11.10.3.66 (from torch==1.13.1)\n",
            "  Downloading nvidia_cublas_cu11-11.10.3.66-py3-none-manylinux1_x86_64.whl.metadata (1.6 kB)\n",
            "Collecting nvidia-cuda-nvrtc-cu11==11.7.99 (from torch==1.13.1)\n",
            "  Downloading nvidia_cuda_nvrtc_cu11-11.7.99-2-py3-none-manylinux1_x86_64.whl.metadata (1.5 kB)\n",
            "Requirement already satisfied: setuptools in /usr/local/lib/python3.9/dist-packages (from nvidia-cublas-cu11==11.10.3.66->torch==1.13.1) (79.0.0)\n",
            "Requirement already satisfied: wheel in /usr/local/lib/python3.9/dist-packages (from nvidia-cublas-cu11==11.10.3.66->torch==1.13.1) (0.45.1)\n",
            "Collecting jsonschema>=3.0 (from altair>=4.2.0->gradio==3.32.0)\n",
            "  Downloading jsonschema-4.23.0-py3-none-any.whl.metadata (7.9 kB)\n",
            "Collecting narwhals>=1.14.2 (from altair>=4.2.0->gradio==3.32.0)\n",
            "  Downloading narwhals-1.35.0-py3-none-any.whl.metadata (9.2 kB)\n",
            "Collecting filelock (from huggingface-hub>=0.13.0->gradio==3.32.0)\n",
            "  Downloading filelock-3.18.0-py3-none-any.whl.metadata (2.9 kB)\n",
            "Collecting tqdm>=4.42.1 (from huggingface-hub>=0.13.0->gradio==3.32.0)\n",
            "  Downloading tqdm-4.67.1-py3-none-any.whl.metadata (57 kB)\n",
            "Collecting mdurl~=0.1 (from markdown-it-py>=2.0.0->markdown-it-py[linkify]>=2.0.0->gradio==3.32.0)\n",
            "  Downloading mdurl-0.1.2-py3-none-any.whl.metadata (1.6 kB)\n",
            "Collecting linkify-it-py<3,>=1 (from markdown-it-py[linkify]>=2.0.0->gradio==3.32.0)\n",
            "  Downloading linkify_it_py-2.0.3-py3-none-any.whl.metadata (8.5 kB)\n",
            "INFO: pip is looking at multiple versions of mdit-py-plugins to determine which version is compatible with other requirements. This could take a while.\n",
            "Collecting mdit-py-plugins<=0.3.3 (from gradio==3.32.0)\n",
            "  Downloading mdit_py_plugins-0.3.2-py3-none-any.whl.metadata (2.8 kB)\n",
            "  Downloading mdit_py_plugins-0.3.1-py3-none-any.whl.metadata (2.8 kB)\n",
            "  Downloading mdit_py_plugins-0.3.0-py3-none-any.whl.metadata (2.8 kB)\n",
            "  Downloading mdit_py_plugins-0.2.8-py3-none-any.whl.metadata (2.8 kB)\n",
            "  Downloading mdit_py_plugins-0.2.7-py3-none-any.whl.metadata (2.8 kB)\n",
            "  Downloading mdit_py_plugins-0.2.6-py3-none-any.whl.metadata (2.6 kB)\n",
            "  Downloading mdit_py_plugins-0.2.5-py3-none-any.whl.metadata (2.6 kB)\n",
            "INFO: pip is still looking at multiple versions of mdit-py-plugins to determine which version is compatible with other requirements. This could take a while.\n",
            "  Downloading mdit_py_plugins-0.2.4-py3-none-any.whl.metadata (2.6 kB)\n",
            "  Downloading mdit_py_plugins-0.2.3-py3-none-any.whl.metadata (2.6 kB)\n",
            "  Downloading mdit_py_plugins-0.2.2-py3-none-any.whl.metadata (2.6 kB)\n",
            "  Downloading mdit_py_plugins-0.2.1-py3-none-any.whl.metadata (2.6 kB)\n",
            "  Downloading mdit_py_plugins-0.2.0-py3-none-any.whl.metadata (2.6 kB)\n",
            "INFO: This is taking longer than usual. You might need to provide the dependency resolver with stricter constraints to reduce runtime. See https://pip.pypa.io/warnings/backtracking for guidance. If you want to abort this run, press Ctrl + C.\n",
            "  Downloading mdit_py_plugins-0.1.0-py3-none-any.whl.metadata (2.6 kB)\n",
            "Collecting markdown-it-py[linkify]>=2.0.0 (from gradio==3.32.0)\n",
            "  Downloading markdown_it_py-2.2.0-py3-none-any.whl.metadata (6.8 kB)\n",
            "Requirement already satisfied: six>=1.5 in /usr/lib/python3/dist-packages (from python-dateutil>=2.1->matplotlib==3.3.4) (1.16.0)\n",
            "Collecting click>=7.0 (from uvicorn>=0.14.0->gradio==3.32.0)\n",
            "  Downloading click-8.1.8-py3-none-any.whl.metadata (2.3 kB)\n",
            "Collecting h11>=0.8 (from uvicorn>=0.14.0->gradio==3.32.0)\n",
            "  Downloading h11-0.14.0-py3-none-any.whl.metadata (8.2 kB)\n",
            "Collecting aiohappyeyeballs>=2.3.0 (from aiohttp->gradio==3.32.0)\n",
            "  Downloading aiohappyeyeballs-2.6.1-py3-none-any.whl.metadata (5.9 kB)\n",
            "Collecting aiosignal>=1.1.2 (from aiohttp->gradio==3.32.0)\n",
            "  Downloading aiosignal-1.3.2-py2.py3-none-any.whl.metadata (3.8 kB)\n",
            "Collecting async-timeout<6.0,>=4.0 (from aiohttp->gradio==3.32.0)\n",
            "  Downloading async_timeout-5.0.1-py3-none-any.whl.metadata (5.1 kB)\n",
            "Collecting attrs>=17.3.0 (from aiohttp->gradio==3.32.0)\n",
            "  Downloading attrs-25.3.0-py3-none-any.whl.metadata (10 kB)\n",
            "Collecting frozenlist>=1.1.1 (from aiohttp->gradio==3.32.0)\n",
            "  Downloading frozenlist-1.6.0-cp39-cp39-manylinux_2_5_x86_64.manylinux1_x86_64.manylinux_2_17_x86_64.manylinux2014_x86_64.whl.metadata (16 kB)\n",
            "Collecting multidict<7.0,>=4.5 (from aiohttp->gradio==3.32.0)\n",
            "  Downloading multidict-6.4.3-cp39-cp39-manylinux_2_17_x86_64.manylinux2014_x86_64.whl.metadata (5.3 kB)\n",
            "Collecting propcache>=0.2.0 (from aiohttp->gradio==3.32.0)\n",
            "  Downloading propcache-0.3.1-cp39-cp39-manylinux_2_17_x86_64.manylinux2014_x86_64.whl.metadata (10 kB)\n",
            "Collecting yarl<2.0,>=1.17.0 (from aiohttp->gradio==3.32.0)\n",
            "  Downloading yarl-1.20.0-cp39-cp39-manylinux_2_17_x86_64.manylinux2014_x86_64.whl.metadata (72 kB)\n",
            "Collecting starlette<0.47.0,>=0.40.0 (from fastapi->gradio==3.32.0)\n",
            "  Downloading starlette-0.46.2-py3-none-any.whl.metadata (6.2 kB)\n",
            "Collecting annotated-types>=0.6.0 (from pydantic->gradio==3.32.0)\n",
            "  Downloading annotated_types-0.7.0-py3-none-any.whl.metadata (15 kB)\n",
            "Collecting pydantic-core==2.33.1 (from pydantic->gradio==3.32.0)\n",
            "  Downloading pydantic_core-2.33.1-cp39-cp39-manylinux_2_17_x86_64.manylinux2014_x86_64.whl.metadata (6.8 kB)\n",
            "Collecting typing-inspection>=0.4.0 (from pydantic->gradio==3.32.0)\n",
            "  Downloading typing_inspection-0.4.0-py3-none-any.whl.metadata (2.6 kB)\n",
            "Collecting anyio (from httpx->gradio==3.32.0)\n",
            "  Downloading anyio-4.9.0-py3-none-any.whl.metadata (4.7 kB)\n",
            "Collecting certifi (from httpx->gradio==3.32.0)\n",
            "  Downloading certifi-2025.1.31-py3-none-any.whl.metadata (2.5 kB)\n",
            "Collecting httpcore==1.* (from httpx->gradio==3.32.0)\n",
            "  Downloading httpcore-1.0.8-py3-none-any.whl.metadata (21 kB)\n",
            "Collecting idna (from httpx->gradio==3.32.0)\n",
            "  Downloading idna-3.10-py3-none-any.whl.metadata (10 kB)\n",
            "Collecting pytz>=2020.1 (from pandas->gradio==3.32.0)\n",
            "  Downloading pytz-2025.2-py2.py3-none-any.whl.metadata (22 kB)\n",
            "Collecting tzdata>=2022.7 (from pandas->gradio==3.32.0)\n",
            "  Downloading tzdata-2025.2-py2.py3-none-any.whl.metadata (1.4 kB)\n",
            "Collecting charset-normalizer<4,>=2 (from requests->gradio==3.32.0)\n",
            "  Downloading charset_normalizer-3.4.1-cp39-cp39-manylinux_2_17_x86_64.manylinux2014_x86_64.whl.metadata (35 kB)\n",
            "Collecting urllib3<3,>=1.21.1 (from requests->gradio==3.32.0)\n",
            "  Downloading urllib3-2.4.0-py3-none-any.whl.metadata (6.5 kB)\n",
            "Collecting jsonschema-specifications>=2023.03.6 (from jsonschema>=3.0->altair>=4.2.0->gradio==3.32.0)\n",
            "  Downloading jsonschema_specifications-2024.10.1-py3-none-any.whl.metadata (3.0 kB)\n",
            "Collecting referencing>=0.28.4 (from jsonschema>=3.0->altair>=4.2.0->gradio==3.32.0)\n",
            "  Downloading referencing-0.36.2-py3-none-any.whl.metadata (2.8 kB)\n",
            "Collecting rpds-py>=0.7.1 (from jsonschema>=3.0->altair>=4.2.0->gradio==3.32.0)\n",
            "  Downloading rpds_py-0.24.0-cp39-cp39-manylinux_2_17_x86_64.manylinux2014_x86_64.whl.metadata (4.1 kB)\n",
            "Collecting uc-micro-py (from linkify-it-py<3,>=1->markdown-it-py[linkify]>=2.0.0->gradio==3.32.0)\n",
            "  Downloading uc_micro_py-1.0.3-py3-none-any.whl.metadata (2.0 kB)\n",
            "Collecting exceptiongroup>=1.0.2 (from anyio->httpx->gradio==3.32.0)\n",
            "  Downloading exceptiongroup-1.2.2-py3-none-any.whl.metadata (6.6 kB)\n",
            "Collecting sniffio>=1.1 (from anyio->httpx->gradio==3.32.0)\n",
            "  Downloading sniffio-1.3.1-py3-none-any.whl.metadata (3.9 kB)\n",
            "Downloading gradio-3.32.0-py3-none-any.whl (19.9 MB)\n",
            "\u001b[2K   \u001b[90m━━━━━━━━━━━━━━━━━━━━━━━━━━━━━━━━━━━━━━━━\u001b[0m \u001b[32m19.9/19.9 MB\u001b[0m \u001b[31m138.4 MB/s\u001b[0m eta \u001b[36m0:00:00\u001b[0m\n",
            "\u001b[?25hDownloading gradio_client-0.2.5-py3-none-any.whl (288 kB)\n",
            "Downloading matplotlib-3.3.4-cp39-cp39-manylinux1_x86_64.whl (11.5 MB)\n",
            "\u001b[2K   \u001b[90m━━━━━━━━━━━━━━━━━━━━━━━━━━━━━━━━━━━━━━━━\u001b[0m \u001b[32m11.5/11.5 MB\u001b[0m \u001b[31m77.0 MB/s\u001b[0m eta \u001b[36m0:00:00\u001b[0m\n",
            "\u001b[?25hDownloading torch-1.13.1-cp39-cp39-manylinux1_x86_64.whl (887.4 MB)\n",
            "\u001b[2K   \u001b[90m━━━━━━━━━━━━━━━━━━━━━━━━━━━━━━━━━━━━━━━━\u001b[0m \u001b[32m887.4/887.4 MB\u001b[0m \u001b[31m29.0 MB/s\u001b[0m eta \u001b[36m0:00:00\u001b[0m\n",
            "\u001b[?25hDownloading torchvision-0.14.1-cp39-cp39-manylinux1_x86_64.whl (24.2 MB)\n",
            "\u001b[2K   \u001b[90m━━━━━━━━━━━━━━━━━━━━━━━━━━━━━━━━━━━━━━━━\u001b[0m \u001b[32m24.2/24.2 MB\u001b[0m \u001b[31m65.7 MB/s\u001b[0m eta \u001b[36m0:00:00\u001b[0m\n",
            "\u001b[?25hDownloading nvidia_cublas_cu11-11.10.3.66-py3-none-manylinux1_x86_64.whl (317.1 MB)\n",
            "\u001b[2K   \u001b[90m━━━━━━━━━━━━━━━━━━━━━━━━━━━━━━━━━━━━━━━━\u001b[0m \u001b[32m317.1/317.1 MB\u001b[0m \u001b[31m65.1 MB/s\u001b[0m eta \u001b[36m0:00:00\u001b[0m\n",
            "\u001b[?25hDownloading nvidia_cuda_nvrtc_cu11-11.7.99-2-py3-none-manylinux1_x86_64.whl (21.0 MB)\n",
            "\u001b[2K   \u001b[90m━━━━━━━━━━━━━━━━━━━━━━━━━━━━━━━━━━━━━━━━\u001b[0m \u001b[32m21.0/21.0 MB\u001b[0m \u001b[31m161.5 MB/s\u001b[0m eta \u001b[36m0:00:00\u001b[0m\n",
            "\u001b[?25hDownloading nvidia_cuda_runtime_cu11-11.7.99-py3-none-manylinux1_x86_64.whl (849 kB)\n",
            "\u001b[2K   \u001b[90m━━━━━━━━━━━━━━━━━━━━━━━━━━━━━━━━━━━━━━━━\u001b[0m \u001b[32m849.3/849.3 kB\u001b[0m \u001b[31m45.9 MB/s\u001b[0m eta \u001b[36m0:00:00\u001b[0m\n",
            "\u001b[?25hDownloading nvidia_cudnn_cu11-8.5.0.96-2-py3-none-manylinux1_x86_64.whl (557.1 MB)\n",
            "\u001b[2K   \u001b[90m━━━━━━━━━━━━━━━━━━━━━━━━━━━━━━━━━━━━━━━━\u001b[0m \u001b[32m557.1/557.1 MB\u001b[0m \u001b[31m35.7 MB/s\u001b[0m eta \u001b[36m0:00:00\u001b[0m\n",
            "\u001b[?25hDownloading altair-5.5.0-py3-none-any.whl (731 kB)\n",
            "\u001b[2K   \u001b[90m━━━━━━━━━━━━━━━━━━━━━━━━━━━━━━━━━━━━━━━━\u001b[0m \u001b[32m731.2/731.2 kB\u001b[0m \u001b[31m29.6 MB/s\u001b[0m eta \u001b[36m0:00:00\u001b[0m\n",
            "\u001b[?25hDownloading cycler-0.12.1-py3-none-any.whl (8.3 kB)\n",
            "Downloading huggingface_hub-0.30.2-py3-none-any.whl (481 kB)\n",
            "Downloading fsspec-2025.3.2-py3-none-any.whl (194 kB)\n",
            "Downloading kiwisolver-1.4.7-cp39-cp39-manylinux_2_12_x86_64.manylinux2010_x86_64.whl (1.6 MB)\n",
            "\u001b[2K   \u001b[90m━━━━━━━━━━━━━━━━━━━━━━━━━━━━━━━━━━━━━━━━\u001b[0m \u001b[32m1.6/1.6 MB\u001b[0m \u001b[31m45.5 MB/s\u001b[0m eta \u001b[36m0:00:00\u001b[0m\n",
            "\u001b[?25hDownloading markdown_it_py-2.2.0-py3-none-any.whl (84 kB)\n",
            "Downloading mdit_py_plugins-0.3.3-py3-none-any.whl (50 kB)\n",
            "Downloading numpy-2.0.2-cp39-cp39-manylinux_2_17_x86_64.manylinux2014_x86_64.whl (19.5 MB)\n",
            "\u001b[2K   \u001b[90m━━━━━━━━━━━━━━━━━━━━━━━━━━━━━━━━━━━━━━━━\u001b[0m \u001b[32m19.5/19.5 MB\u001b[0m \u001b[31m55.4 MB/s\u001b[0m eta \u001b[36m0:00:00\u001b[0m\n",
            "\u001b[?25hDownloading packaging-25.0-py3-none-any.whl (66 kB)\n",
            "Downloading pillow-11.2.1-cp39-cp39-manylinux_2_28_x86_64.whl (4.6 MB)\n",
            "\u001b[2K   \u001b[90m━━━━━━━━━━━━━━━━━━━━━━━━━━━━━━━━━━━━━━━━\u001b[0m \u001b[32m4.6/4.6 MB\u001b[0m \u001b[31m35.6 MB/s\u001b[0m eta \u001b[36m0:00:00\u001b[0m\n",
            "\u001b[?25hDownloading pygments-2.19.1-py3-none-any.whl (1.2 MB)\n",
            "\u001b[2K   \u001b[90m━━━━━━━━━━━━━━━━━━━━━━━━━━━━━━━━━━━━━━━━\u001b[0m \u001b[32m1.2/1.2 MB\u001b[0m \u001b[31m42.2 MB/s\u001b[0m eta \u001b[36m0:00:00\u001b[0m\n",
            "\u001b[?25hDownloading python_dateutil-2.9.0.post0-py2.py3-none-any.whl (229 kB)\n",
            "Downloading PyYAML-6.0.2-cp39-cp39-manylinux_2_17_x86_64.manylinux2014_x86_64.whl (737 kB)\n",
            "\u001b[2K   \u001b[90m━━━━━━━━━━━━━━━━━━━━━━━━━━━━━━━━━━━━━━━━\u001b[0m \u001b[32m737.4/737.4 kB\u001b[0m \u001b[31m30.4 MB/s\u001b[0m eta \u001b[36m0:00:00\u001b[0m\n",
            "\u001b[?25hDownloading typing_extensions-4.13.2-py3-none-any.whl (45 kB)\n",
            "Downloading uvicorn-0.34.2-py3-none-any.whl (62 kB)\n",
            "Downloading websockets-15.0.1-cp39-cp39-manylinux_2_5_x86_64.manylinux1_x86_64.manylinux_2_17_x86_64.manylinux2014_x86_64.whl (181 kB)\n",
            "Downloading aiofiles-24.1.0-py3-none-any.whl (15 kB)\n",
            "Downloading aiohttp-3.11.18-cp39-cp39-manylinux_2_17_x86_64.manylinux2014_x86_64.whl (1.6 MB)\n",
            "\u001b[2K   \u001b[90m━━━━━━━━━━━━━━━━━━━━━━━━━━━━━━━━━━━━━━━━\u001b[0m \u001b[32m1.6/1.6 MB\u001b[0m \u001b[31m54.1 MB/s\u001b[0m eta \u001b[36m0:00:00\u001b[0m\n",
            "\u001b[?25hDownloading fastapi-0.115.12-py3-none-any.whl (95 kB)\n",
            "Downloading pydantic-2.11.3-py3-none-any.whl (443 kB)\n",
            "Downloading pydantic_core-2.33.1-cp39-cp39-manylinux_2_17_x86_64.manylinux2014_x86_64.whl (2.0 MB)\n",
            "\u001b[2K   \u001b[90m━━━━━━━━━━━━━━━━━━━━━━━━━━━━━━━━━━━━━━━━\u001b[0m \u001b[32m2.0/2.0 MB\u001b[0m \u001b[31m66.5 MB/s\u001b[0m eta \u001b[36m0:00:00\u001b[0m\n",
            "\u001b[?25hDownloading ffmpy-0.5.0-py3-none-any.whl (6.0 kB)\n",
            "Downloading httpx-0.28.1-py3-none-any.whl (73 kB)\n",
            "Downloading httpcore-1.0.8-py3-none-any.whl (78 kB)\n",
            "Downloading jinja2-3.1.6-py3-none-any.whl (134 kB)\n",
            "Downloading orjson-3.10.16-cp39-cp39-manylinux_2_17_x86_64.manylinux2014_x86_64.whl (132 kB)\n",
            "Downloading pandas-2.2.3-cp39-cp39-manylinux_2_17_x86_64.manylinux2014_x86_64.whl (13.1 MB)\n",
            "\u001b[2K   \u001b[90m━━━━━━━━━━━━━━━━━━━━━━━━━━━━━━━━━━━━━━━━\u001b[0m \u001b[32m13.1/13.1 MB\u001b[0m \u001b[31m108.0 MB/s\u001b[0m eta \u001b[36m0:00:00\u001b[0m\n",
            "\u001b[?25hDownloading pydub-0.25.1-py2.py3-none-any.whl (32 kB)\n",
            "Downloading python_multipart-0.0.20-py3-none-any.whl (24 kB)\n",
            "Downloading requests-2.32.3-py3-none-any.whl (64 kB)\n",
            "Downloading semantic_version-2.10.0-py2.py3-none-any.whl (15 kB)\n",
            "Downloading aiohappyeyeballs-2.6.1-py3-none-any.whl (15 kB)\n",
            "Downloading aiosignal-1.3.2-py2.py3-none-any.whl (7.6 kB)\n",
            "Downloading annotated_types-0.7.0-py3-none-any.whl (13 kB)\n",
            "Downloading async_timeout-5.0.1-py3-none-any.whl (6.2 kB)\n",
            "Downloading attrs-25.3.0-py3-none-any.whl (63 kB)\n",
            "Downloading certifi-2025.1.31-py3-none-any.whl (166 kB)\n",
            "Downloading charset_normalizer-3.4.1-cp39-cp39-manylinux_2_17_x86_64.manylinux2014_x86_64.whl (146 kB)\n",
            "Downloading click-8.1.8-py3-none-any.whl (98 kB)\n",
            "Downloading frozenlist-1.6.0-cp39-cp39-manylinux_2_5_x86_64.manylinux1_x86_64.manylinux_2_17_x86_64.manylinux2014_x86_64.whl (288 kB)\n",
            "Downloading h11-0.14.0-py3-none-any.whl (58 kB)\n",
            "Downloading idna-3.10-py3-none-any.whl (70 kB)\n",
            "Downloading jsonschema-4.23.0-py3-none-any.whl (88 kB)\n",
            "Downloading linkify_it_py-2.0.3-py3-none-any.whl (19 kB)\n",
            "Downloading mdurl-0.1.2-py3-none-any.whl (10.0 kB)\n",
            "Downloading multidict-6.4.3-cp39-cp39-manylinux_2_17_x86_64.manylinux2014_x86_64.whl (216 kB)\n",
            "Downloading narwhals-1.35.0-py3-none-any.whl (325 kB)\n",
            "Downloading propcache-0.3.1-cp39-cp39-manylinux_2_17_x86_64.manylinux2014_x86_64.whl (209 kB)\n",
            "Downloading pytz-2025.2-py2.py3-none-any.whl (509 kB)\n",
            "Downloading starlette-0.46.2-py3-none-any.whl (72 kB)\n",
            "Downloading anyio-4.9.0-py3-none-any.whl (100 kB)\n",
            "Downloading tqdm-4.67.1-py3-none-any.whl (78 kB)\n",
            "Downloading typing_inspection-0.4.0-py3-none-any.whl (14 kB)\n",
            "Downloading tzdata-2025.2-py2.py3-none-any.whl (347 kB)\n",
            "Downloading urllib3-2.4.0-py3-none-any.whl (128 kB)\n",
            "Downloading yarl-1.20.0-cp39-cp39-manylinux_2_17_x86_64.manylinux2014_x86_64.whl (335 kB)\n",
            "Downloading filelock-3.18.0-py3-none-any.whl (16 kB)\n",
            "Downloading exceptiongroup-1.2.2-py3-none-any.whl (16 kB)\n",
            "Downloading jsonschema_specifications-2024.10.1-py3-none-any.whl (18 kB)\n",
            "Downloading referencing-0.36.2-py3-none-any.whl (26 kB)\n",
            "Downloading rpds_py-0.24.0-cp39-cp39-manylinux_2_17_x86_64.manylinux2014_x86_64.whl (390 kB)\n",
            "Downloading sniffio-1.3.1-py3-none-any.whl (10 kB)\n",
            "Downloading uc_micro_py-1.0.3-py3-none-any.whl (6.2 kB)\n",
            "Building wheels for collected packages: future\n",
            "  Building wheel for future (setup.py) ... \u001b[?25l\u001b[?25hdone\n",
            "  Created wheel for future: filename=future-0.18.2-py3-none-any.whl size=491149 sha256=2d9d47c1c1aee40c8e58a80c2ff4494a564f9158a86ddff78959d0843c32f4d4\n",
            "  Stored in directory: /root/.cache/pip/wheels/2f/a0/d3/4030d9f80e6b3be787f19fc911b8e7aa462986a40ab1e4bb94\n",
            "Successfully built future\n",
            "Installing collected packages: pytz, pydub, websockets, urllib3, uc-micro-py, tzdata, typing-extensions, tqdm, sniffio, semantic-version, rpds-py, pyyaml, python-multipart, python-dateutil, pygments, propcache, pillow, packaging, orjson, nvidia-cuda-runtime-cu11, nvidia-cuda-nvrtc-cu11, nvidia-cublas-cu11, numpy, narwhals, mdurl, kiwisolver, jinja2, idna, h11, future, fsspec, frozenlist, filelock, ffmpy, exceptiongroup, cycler, click, charset-normalizer, certifi, attrs, async-timeout, annotated-types, aiohappyeyeballs, aiofiles, uvicorn, typing-inspection, requests, referencing, pydantic-core, pandas, nvidia-cudnn-cu11, multidict, matplotlib, markdown-it-py, linkify-it-py, httpcore, anyio, aiosignal, yarl, torch, starlette, pydantic, mdit-py-plugins, jsonschema-specifications, huggingface-hub, httpx, torchvision, jsonschema, gradio-client, fastapi, aiohttp, altair, gradio\n",
            "Successfully installed aiofiles-24.1.0 aiohappyeyeballs-2.6.1 aiohttp-3.11.18 aiosignal-1.3.2 altair-5.5.0 annotated-types-0.7.0 anyio-4.9.0 async-timeout-5.0.1 attrs-25.3.0 certifi-2025.1.31 charset-normalizer-3.4.1 click-8.1.8 cycler-0.12.1 exceptiongroup-1.2.2 fastapi-0.115.12 ffmpy-0.5.0 filelock-3.18.0 frozenlist-1.6.0 fsspec-2025.3.2 future-0.18.2 gradio-3.32.0 gradio-client-0.2.5 h11-0.14.0 httpcore-1.0.8 httpx-0.28.1 huggingface-hub-0.30.2 idna-3.10 jinja2-3.1.6 jsonschema-4.23.0 jsonschema-specifications-2024.10.1 kiwisolver-1.4.7 linkify-it-py-2.0.3 markdown-it-py-2.2.0 matplotlib-3.3.4 mdit-py-plugins-0.3.3 mdurl-0.1.2 multidict-6.4.3 narwhals-1.35.0 numpy-2.0.2 nvidia-cublas-cu11-11.10.3.66 nvidia-cuda-nvrtc-cu11-11.7.99 nvidia-cuda-runtime-cu11-11.7.99 nvidia-cudnn-cu11-8.5.0.96 orjson-3.10.16 packaging-25.0 pandas-2.2.3 pillow-11.2.1 propcache-0.3.1 pydantic-2.11.3 pydantic-core-2.33.1 pydub-0.25.1 pygments-2.19.1 python-dateutil-2.9.0.post0 python-multipart-0.0.20 pytz-2025.2 pyyaml-6.0.2 referencing-0.36.2 requests-2.32.3 rpds-py-0.24.0 semantic-version-2.10.0 sniffio-1.3.1 starlette-0.46.2 torch-1.13.1 torchvision-0.14.1 tqdm-4.67.1 typing-extensions-4.13.2 typing-inspection-0.4.0 tzdata-2025.2 uc-micro-py-1.0.3 urllib3-2.4.0 uvicorn-0.34.2 websockets-15.0.1 yarl-1.20.0\n"
          ]
        }
      ],
      "execution_count": 8
    },
    {
      "cell_type": "code",
      "source": [
        "!python3.9 -m pip install torchmetrics==0.11.0 torchshow==0.5.0 timm==0.6.12 POT==0.9.0 omegaconf iopath numpy==1.22.0 tqdm==4.64.1"
      ],
      "metadata": {
        "trusted": true,
        "execution": {
          "iopub.status.busy": "2025-04-20T15:41:57.586539Z",
          "iopub.execute_input": "2025-04-20T15:41:57.587361Z",
          "iopub.status.idle": "2025-04-20T15:49:03.375604Z",
          "shell.execute_reply.started": "2025-04-20T15:41:57.587328Z",
          "shell.execute_reply": "2025-04-20T15:49:03.373646Z"
        },
        "collapsed": true,
        "jupyter": {
          "outputs_hidden": true
        },
        "colab": {
          "base_uri": "https://localhost:8080/"
        },
        "id": "UUvJAAGRKtEK",
        "outputId": "f14419c0-9fe2-4084-a0b8-11e62ab1fbd6"
      },
      "outputs": [
        {
          "output_type": "stream",
          "name": "stdout",
          "text": [
            "Collecting torchmetrics==0.11.0\n",
            "  Downloading torchmetrics-0.11.0-py3-none-any.whl.metadata (16 kB)\n",
            "Collecting torchshow==0.5.0\n",
            "  Downloading torchshow-0.5.0-py3-none-any.whl.metadata (9.7 kB)\n",
            "Collecting timm==0.6.12\n",
            "  Downloading timm-0.6.12-py3-none-any.whl.metadata (37 kB)\n",
            "Collecting POT==0.9.0\n",
            "  Downloading POT-0.9.0-cp39-cp39-manylinux_2_12_x86_64.manylinux2010_x86_64.whl.metadata (25 kB)\n",
            "Collecting omegaconf\n",
            "  Using cached omegaconf-2.3.0-py3-none-any.whl.metadata (3.9 kB)\n",
            "Collecting iopath\n",
            "  Downloading iopath-0.1.10.tar.gz (42 kB)\n",
            "  Preparing metadata (setup.py) ... \u001b[?25l\u001b[?25hdone\n",
            "Collecting numpy==1.22.0\n",
            "  Downloading numpy-1.22.0-cp39-cp39-manylinux_2_17_x86_64.manylinux2014_x86_64.whl.metadata (2.0 kB)\n",
            "Collecting tqdm==4.64.1\n",
            "  Downloading tqdm-4.64.1-py2.py3-none-any.whl.metadata (57 kB)\n",
            "Requirement already satisfied: torch>=1.8.1 in /usr/local/lib/python3.9/dist-packages (from torchmetrics==0.11.0) (1.13.1)\n",
            "Requirement already satisfied: packaging in /usr/local/lib/python3.9/dist-packages (from torchmetrics==0.11.0) (25.0)\n",
            "Requirement already satisfied: matplotlib in /usr/local/lib/python3.9/dist-packages (from torchshow==0.5.0) (3.3.4)\n",
            "Requirement already satisfied: torchvision in /usr/local/lib/python3.9/dist-packages (from timm==0.6.12) (0.14.1)\n",
            "Requirement already satisfied: pyyaml in /usr/local/lib/python3.9/dist-packages (from timm==0.6.12) (6.0.2)\n",
            "Requirement already satisfied: huggingface-hub in /usr/local/lib/python3.9/dist-packages (from timm==0.6.12) (0.30.2)\n",
            "Collecting scipy>=1.0 (from POT==0.9.0)\n",
            "  Downloading scipy-1.13.1-cp39-cp39-manylinux_2_17_x86_64.manylinux2014_x86_64.whl.metadata (60 kB)\n",
            "Collecting antlr4-python3-runtime==4.9.* (from omegaconf)\n",
            "  Using cached antlr4-python3-runtime-4.9.3.tar.gz (117 kB)\n",
            "  Preparing metadata (setup.py) ... \u001b[?25l\u001b[?25hdone\n",
            "Requirement already satisfied: typing_extensions in /usr/local/lib/python3.9/dist-packages (from iopath) (4.13.2)\n",
            "Collecting portalocker (from iopath)\n",
            "  Using cached portalocker-3.1.1-py3-none-any.whl.metadata (8.6 kB)\n",
            "INFO: pip is looking at multiple versions of scipy to determine which version is compatible with other requirements. This could take a while.\n",
            "Collecting scipy>=1.0 (from POT==0.9.0)\n",
            "  Downloading scipy-1.13.0-cp39-cp39-manylinux_2_17_x86_64.manylinux2014_x86_64.whl.metadata (60 kB)\n",
            "  Downloading scipy-1.12.0-cp39-cp39-manylinux_2_17_x86_64.manylinux2014_x86_64.whl.metadata (60 kB)\n",
            "  Downloading scipy-1.11.4-cp39-cp39-manylinux_2_17_x86_64.manylinux2014_x86_64.whl.metadata (60 kB)\n",
            "Requirement already satisfied: nvidia-cuda-runtime-cu11==11.7.99 in /usr/local/lib/python3.9/dist-packages (from torch>=1.8.1->torchmetrics==0.11.0) (11.7.99)\n",
            "Requirement already satisfied: nvidia-cudnn-cu11==8.5.0.96 in /usr/local/lib/python3.9/dist-packages (from torch>=1.8.1->torchmetrics==0.11.0) (8.5.0.96)\n",
            "Requirement already satisfied: nvidia-cublas-cu11==11.10.3.66 in /usr/local/lib/python3.9/dist-packages (from torch>=1.8.1->torchmetrics==0.11.0) (11.10.3.66)\n",
            "Requirement already satisfied: nvidia-cuda-nvrtc-cu11==11.7.99 in /usr/local/lib/python3.9/dist-packages (from torch>=1.8.1->torchmetrics==0.11.0) (11.7.99)\n",
            "Requirement already satisfied: setuptools in /usr/local/lib/python3.9/dist-packages (from nvidia-cublas-cu11==11.10.3.66->torch>=1.8.1->torchmetrics==0.11.0) (79.0.0)\n",
            "Requirement already satisfied: wheel in /usr/local/lib/python3.9/dist-packages (from nvidia-cublas-cu11==11.10.3.66->torch>=1.8.1->torchmetrics==0.11.0) (0.45.1)\n",
            "Requirement already satisfied: filelock in /usr/local/lib/python3.9/dist-packages (from huggingface-hub->timm==0.6.12) (3.18.0)\n",
            "Requirement already satisfied: fsspec>=2023.5.0 in /usr/local/lib/python3.9/dist-packages (from huggingface-hub->timm==0.6.12) (2025.3.2)\n",
            "Requirement already satisfied: requests in /usr/local/lib/python3.9/dist-packages (from huggingface-hub->timm==0.6.12) (2.32.3)\n",
            "Requirement already satisfied: cycler>=0.10 in /usr/local/lib/python3.9/dist-packages (from matplotlib->torchshow==0.5.0) (0.12.1)\n",
            "Requirement already satisfied: kiwisolver>=1.0.1 in /usr/local/lib/python3.9/dist-packages (from matplotlib->torchshow==0.5.0) (1.4.7)\n",
            "Requirement already satisfied: pillow>=6.2.0 in /usr/local/lib/python3.9/dist-packages (from matplotlib->torchshow==0.5.0) (11.2.1)\n",
            "Requirement already satisfied: pyparsing!=2.0.4,!=2.1.2,!=2.1.6,>=2.0.3 in /usr/lib/python3/dist-packages (from matplotlib->torchshow==0.5.0) (2.4.7)\n",
            "Requirement already satisfied: python-dateutil>=2.1 in /usr/local/lib/python3.9/dist-packages (from matplotlib->torchshow==0.5.0) (2.9.0.post0)\n",
            "Requirement already satisfied: six>=1.5 in /usr/lib/python3/dist-packages (from python-dateutil>=2.1->matplotlib->torchshow==0.5.0) (1.16.0)\n",
            "Requirement already satisfied: charset-normalizer<4,>=2 in /usr/local/lib/python3.9/dist-packages (from requests->huggingface-hub->timm==0.6.12) (3.4.1)\n",
            "Requirement already satisfied: idna<4,>=2.5 in /usr/local/lib/python3.9/dist-packages (from requests->huggingface-hub->timm==0.6.12) (3.10)\n",
            "Requirement already satisfied: urllib3<3,>=1.21.1 in /usr/local/lib/python3.9/dist-packages (from requests->huggingface-hub->timm==0.6.12) (2.4.0)\n",
            "Requirement already satisfied: certifi>=2017.4.17 in /usr/local/lib/python3.9/dist-packages (from requests->huggingface-hub->timm==0.6.12) (2025.1.31)\n",
            "Downloading torchmetrics-0.11.0-py3-none-any.whl (512 kB)\n",
            "Downloading torchshow-0.5.0-py3-none-any.whl (16 kB)\n",
            "Downloading timm-0.6.12-py3-none-any.whl (549 kB)\n",
            "\u001b[2K   \u001b[90m━━━━━━━━━━━━━━━━━━━━━━━━━━━━━━━━━━━━━━━━\u001b[0m \u001b[32m549.1/549.1 kB\u001b[0m \u001b[31m22.9 MB/s\u001b[0m eta \u001b[36m0:00:00\u001b[0m\n",
            "\u001b[?25hDownloading POT-0.9.0-cp39-cp39-manylinux_2_12_x86_64.manylinux2010_x86_64.whl (709 kB)\n",
            "\u001b[2K   \u001b[90m━━━━━━━━━━━━━━━━━━━━━━━━━━━━━━━━━━━━━━━━\u001b[0m \u001b[32m709.2/709.2 kB\u001b[0m \u001b[31m24.5 MB/s\u001b[0m eta \u001b[36m0:00:00\u001b[0m\n",
            "\u001b[?25hDownloading numpy-1.22.0-cp39-cp39-manylinux_2_17_x86_64.manylinux2014_x86_64.whl (16.8 MB)\n",
            "\u001b[2K   \u001b[90m━━━━━━━━━━━━━━━━━━━━━━━━━━━━━━━━━━━━━━━━\u001b[0m \u001b[32m16.8/16.8 MB\u001b[0m \u001b[31m73.4 MB/s\u001b[0m eta \u001b[36m0:00:00\u001b[0m\n",
            "\u001b[?25hDownloading tqdm-4.64.1-py2.py3-none-any.whl (78 kB)\n",
            "Using cached omegaconf-2.3.0-py3-none-any.whl (79 kB)\n",
            "Downloading scipy-1.11.4-cp39-cp39-manylinux_2_17_x86_64.manylinux2014_x86_64.whl (36.6 MB)\n",
            "\u001b[2K   \u001b[90m━━━━━━━━━━━━━━━━━━━━━━━━━━━━━━━━━━━━━━━━\u001b[0m \u001b[32m36.6/36.6 MB\u001b[0m \u001b[31m42.4 MB/s\u001b[0m eta \u001b[36m0:00:00\u001b[0m\n",
            "\u001b[?25hUsing cached portalocker-3.1.1-py3-none-any.whl (19 kB)\n",
            "Building wheels for collected packages: antlr4-python3-runtime, iopath\n",
            "  Building wheel for antlr4-python3-runtime (setup.py) ... \u001b[?25l\u001b[?25hdone\n",
            "  Created wheel for antlr4-python3-runtime: filename=antlr4_python3_runtime-4.9.3-py3-none-any.whl size=144591 sha256=5d0da4fe842a51ccb616ccf3a8165a97120075667ffd406093df07c4e08c1a5c\n",
            "  Stored in directory: /root/.cache/pip/wheels/23/cf/80/f3efa822e6ab23277902ee9165fe772eeb1dfb8014f359020a\n",
            "  Building wheel for iopath (setup.py) ... \u001b[?25l\u001b[?25hdone\n",
            "  Created wheel for iopath: filename=iopath-0.1.10-py3-none-any.whl size=31599 sha256=039b59a3f9733fcdf9feb2e32c2c4e2c0c900b6a40fffbf05a2ab69fa760db39\n",
            "  Stored in directory: /root/.cache/pip/wheels/c1/13/6d/441d8f2af76ee6d2a3e67eebb1d0c556fefcee0a8b32266a8e\n",
            "Successfully built antlr4-python3-runtime iopath\n",
            "Installing collected packages: antlr4-python3-runtime, tqdm, portalocker, omegaconf, numpy, scipy, iopath, torchshow, POT, torchmetrics, timm\n",
            "  Attempting uninstall: tqdm\n",
            "    Found existing installation: tqdm 4.67.1\n",
            "    Uninstalling tqdm-4.67.1:\n",
            "      Successfully uninstalled tqdm-4.67.1\n",
            "  Attempting uninstall: numpy\n",
            "    Found existing installation: numpy 2.0.2\n",
            "    Uninstalling numpy-2.0.2:\n",
            "      Successfully uninstalled numpy-2.0.2\n",
            "\u001b[31mERROR: pip's dependency resolver does not currently take into account all the packages that are installed. This behaviour is the source of the following dependency conflicts.\n",
            "pandas 2.2.3 requires numpy>=1.22.4; python_version < \"3.11\", but you have numpy 1.22.0 which is incompatible.\u001b[0m\u001b[31m\n",
            "\u001b[0mSuccessfully installed POT-0.9.0 antlr4-python3-runtime-4.9.3 iopath-0.1.10 numpy-1.22.0 omegaconf-2.3.0 portalocker-3.1.1 scipy-1.11.4 timm-0.6.12 torchmetrics-0.11.0 torchshow-0.5.0 tqdm-4.64.1\n"
          ]
        }
      ],
      "execution_count": 9
    },
    {
      "cell_type": "code",
      "source": [
        "!python3.9 -m pip install gymnasium==1.0.0"
      ],
      "metadata": {
        "trusted": true,
        "execution": {
          "iopub.status.busy": "2025-04-20T15:49:03.378176Z",
          "iopub.execute_input": "2025-04-20T15:49:03.378574Z",
          "iopub.status.idle": "2025-04-20T15:49:08.283796Z",
          "shell.execute_reply.started": "2025-04-20T15:49:03.378543Z",
          "shell.execute_reply": "2025-04-20T15:49:08.282412Z"
        },
        "collapsed": true,
        "jupyter": {
          "outputs_hidden": true
        },
        "colab": {
          "base_uri": "https://localhost:8080/"
        },
        "id": "W9gOuwrrKtEK",
        "outputId": "7480a89d-7a9d-497f-a84e-13ac4016e530"
      },
      "outputs": [
        {
          "output_type": "stream",
          "name": "stdout",
          "text": [
            "Collecting gymnasium==1.0.0\n",
            "  Downloading gymnasium-1.0.0-py3-none-any.whl.metadata (9.5 kB)\n",
            "Requirement already satisfied: numpy>=1.21.0 in /usr/local/lib/python3.9/dist-packages (from gymnasium==1.0.0) (1.22.0)\n",
            "Collecting cloudpickle>=1.2.0 (from gymnasium==1.0.0)\n",
            "  Downloading cloudpickle-3.1.1-py3-none-any.whl.metadata (7.1 kB)\n",
            "Requirement already satisfied: typing-extensions>=4.3.0 in /usr/local/lib/python3.9/dist-packages (from gymnasium==1.0.0) (4.13.2)\n",
            "Collecting farama-notifications>=0.0.1 (from gymnasium==1.0.0)\n",
            "  Downloading Farama_Notifications-0.0.4-py3-none-any.whl.metadata (558 bytes)\n",
            "Collecting importlib-metadata>=4.8.0 (from gymnasium==1.0.0)\n",
            "  Downloading importlib_metadata-8.6.1-py3-none-any.whl.metadata (4.7 kB)\n",
            "Collecting zipp>=3.20 (from importlib-metadata>=4.8.0->gymnasium==1.0.0)\n",
            "  Downloading zipp-3.21.0-py3-none-any.whl.metadata (3.7 kB)\n",
            "Downloading gymnasium-1.0.0-py3-none-any.whl (958 kB)\n",
            "\u001b[2K   \u001b[90m━━━━━━━━━━━━━━━━━━━━━━━━━━━━━━━━━━━━━━━━\u001b[0m \u001b[32m958.1/958.1 kB\u001b[0m \u001b[31m31.6 MB/s\u001b[0m eta \u001b[36m0:00:00\u001b[0m\n",
            "\u001b[?25hDownloading cloudpickle-3.1.1-py3-none-any.whl (20 kB)\n",
            "Downloading Farama_Notifications-0.0.4-py3-none-any.whl (2.5 kB)\n",
            "Downloading importlib_metadata-8.6.1-py3-none-any.whl (26 kB)\n",
            "Downloading zipp-3.21.0-py3-none-any.whl (9.6 kB)\n",
            "Installing collected packages: farama-notifications, zipp, cloudpickle, importlib-metadata, gymnasium\n",
            "  Attempting uninstall: zipp\n",
            "    Found existing installation: zipp 1.0.0\n",
            "    Uninstalling zipp-1.0.0:\n",
            "      Successfully uninstalled zipp-1.0.0\n",
            "  Attempting uninstall: importlib-metadata\n",
            "    Found existing installation: importlib-metadata 4.6.4\n",
            "    Uninstalling importlib-metadata-4.6.4:\n",
            "      Successfully uninstalled importlib-metadata-4.6.4\n",
            "Successfully installed cloudpickle-3.1.1 farama-notifications-0.0.4 gymnasium-1.0.0 importlib-metadata-8.6.1 zipp-3.21.0\n"
          ]
        }
      ],
      "execution_count": 10
    },
    {
      "cell_type": "code",
      "source": [
        "!python3.9 -m pip install opencv-python==4.6.0.66"
      ],
      "metadata": {
        "trusted": true,
        "execution": {
          "iopub.status.busy": "2025-04-20T15:49:08.288475Z",
          "iopub.execute_input": "2025-04-20T15:49:08.288842Z",
          "iopub.status.idle": "2025-04-20T15:49:19.248434Z",
          "shell.execute_reply.started": "2025-04-20T15:49:08.28881Z",
          "shell.execute_reply": "2025-04-20T15:49:19.24697Z"
        },
        "collapsed": true,
        "jupyter": {
          "outputs_hidden": true
        },
        "colab": {
          "base_uri": "https://localhost:8080/"
        },
        "id": "_WTCZd82KtEK",
        "outputId": "e94eb7b8-17e7-437c-abb1-0408646df3b9"
      },
      "outputs": [
        {
          "output_type": "stream",
          "name": "stdout",
          "text": [
            "Collecting opencv-python==4.6.0.66\n",
            "  Downloading opencv_python-4.6.0.66-cp36-abi3-manylinux_2_17_x86_64.manylinux2014_x86_64.whl.metadata (18 kB)\n",
            "Requirement already satisfied: numpy>=1.14.5 in /usr/local/lib/python3.9/dist-packages (from opencv-python==4.6.0.66) (1.22.0)\n",
            "Downloading opencv_python-4.6.0.66-cp36-abi3-manylinux_2_17_x86_64.manylinux2014_x86_64.whl (60.9 MB)\n",
            "\u001b[2K   \u001b[90m━━━━━━━━━━━━━━━━━━━━━━━━━━━━━━━━━━━━━━━━\u001b[0m \u001b[32m60.9/60.9 MB\u001b[0m \u001b[31m46.9 MB/s\u001b[0m eta \u001b[36m0:00:00\u001b[0m\n",
            "\u001b[?25hInstalling collected packages: opencv-python\n",
            "Successfully installed opencv-python-4.6.0.66\n"
          ]
        }
      ],
      "execution_count": 11
    },
    {
      "cell_type": "code",
      "source": [
        "!python3.9 -m pip install scikit-learn==1.1.3"
      ],
      "metadata": {
        "collapsed": true,
        "colab": {
          "base_uri": "https://localhost:8080/"
        },
        "id": "qalgVkb9RZD1",
        "outputId": "530c91ab-e896-4609-8cf9-e4d29cdd0756"
      },
      "execution_count": 12,
      "outputs": [
        {
          "output_type": "stream",
          "name": "stdout",
          "text": [
            "Collecting scikit-learn==1.1.3\n",
            "  Downloading scikit_learn-1.1.3-cp39-cp39-manylinux_2_17_x86_64.manylinux2014_x86_64.whl.metadata (10 kB)\n",
            "Requirement already satisfied: numpy>=1.17.3 in /usr/local/lib/python3.9/dist-packages (from scikit-learn==1.1.3) (1.22.0)\n",
            "Requirement already satisfied: scipy>=1.3.2 in /usr/local/lib/python3.9/dist-packages (from scikit-learn==1.1.3) (1.11.4)\n",
            "Collecting joblib>=1.0.0 (from scikit-learn==1.1.3)\n",
            "  Downloading joblib-1.4.2-py3-none-any.whl.metadata (5.4 kB)\n",
            "Collecting threadpoolctl>=2.0.0 (from scikit-learn==1.1.3)\n",
            "  Downloading threadpoolctl-3.6.0-py3-none-any.whl.metadata (13 kB)\n",
            "Downloading scikit_learn-1.1.3-cp39-cp39-manylinux_2_17_x86_64.manylinux2014_x86_64.whl (30.8 MB)\n",
            "\u001b[2K   \u001b[90m━━━━━━━━━━━━━━━━━━━━━━━━━━━━━━━━━━━━━━━━\u001b[0m \u001b[32m30.8/30.8 MB\u001b[0m \u001b[31m140.5 MB/s\u001b[0m eta \u001b[36m0:00:00\u001b[0m\n",
            "\u001b[?25hDownloading joblib-1.4.2-py3-none-any.whl (301 kB)\n",
            "Downloading threadpoolctl-3.6.0-py3-none-any.whl (18 kB)\n",
            "Installing collected packages: threadpoolctl, joblib, scikit-learn\n",
            "Successfully installed joblib-1.4.2 scikit-learn-1.1.3 threadpoolctl-3.6.0\n"
          ]
        }
      ]
    },
    {
      "cell_type": "code",
      "source": [
        "!python3.9 -m pip install kagglehub"
      ],
      "metadata": {
        "collapsed": true,
        "colab": {
          "base_uri": "https://localhost:8080/"
        },
        "id": "jakFUF18Swbz",
        "outputId": "4ac59403-dce6-4699-e40f-b020a980eddb"
      },
      "execution_count": 13,
      "outputs": [
        {
          "output_type": "stream",
          "name": "stdout",
          "text": [
            "Collecting kagglehub\n",
            "  Downloading kagglehub-0.3.11-py3-none-any.whl.metadata (32 kB)\n",
            "Requirement already satisfied: packaging in /usr/local/lib/python3.9/dist-packages (from kagglehub) (25.0)\n",
            "Requirement already satisfied: pyyaml in /usr/local/lib/python3.9/dist-packages (from kagglehub) (6.0.2)\n",
            "Requirement already satisfied: requests in /usr/local/lib/python3.9/dist-packages (from kagglehub) (2.32.3)\n",
            "Requirement already satisfied: tqdm in /usr/local/lib/python3.9/dist-packages (from kagglehub) (4.64.1)\n",
            "Requirement already satisfied: charset-normalizer<4,>=2 in /usr/local/lib/python3.9/dist-packages (from requests->kagglehub) (3.4.1)\n",
            "Requirement already satisfied: idna<4,>=2.5 in /usr/local/lib/python3.9/dist-packages (from requests->kagglehub) (3.10)\n",
            "Requirement already satisfied: urllib3<3,>=1.21.1 in /usr/local/lib/python3.9/dist-packages (from requests->kagglehub) (2.4.0)\n",
            "Requirement already satisfied: certifi>=2017.4.17 in /usr/local/lib/python3.9/dist-packages (from requests->kagglehub) (2025.1.31)\n",
            "Downloading kagglehub-0.3.11-py3-none-any.whl (63 kB)\n",
            "Installing collected packages: kagglehub\n",
            "Successfully installed kagglehub-0.3.11\n"
          ]
        }
      ]
    },
    {
      "cell_type": "code",
      "source": [
        "!python3.9 --version"
      ],
      "metadata": {
        "trusted": true,
        "execution": {
          "iopub.status.busy": "2025-04-20T16:53:59.839104Z",
          "iopub.execute_input": "2025-04-20T16:53:59.839519Z",
          "iopub.status.idle": "2025-04-20T16:54:00.469232Z",
          "shell.execute_reply.started": "2025-04-20T16:53:59.839489Z",
          "shell.execute_reply": "2025-04-20T16:54:00.467941Z"
        },
        "colab": {
          "base_uri": "https://localhost:8080/"
        },
        "id": "RjqdrtTAKtEK",
        "outputId": "3fb358f6-3b59-470d-d7d8-b1254cd3d123"
      },
      "outputs": [
        {
          "output_type": "stream",
          "name": "stdout",
          "text": [
            "Python 3.9.22\n"
          ]
        }
      ],
      "execution_count": 14
    },
    {
      "cell_type": "code",
      "source": [
        "# !pip install scipy==1.10.1"
      ],
      "metadata": {
        "trusted": true,
        "execution": {
          "iopub.status.busy": "2025-04-20T15:49:19.249768Z",
          "iopub.execute_input": "2025-04-20T15:49:19.250269Z",
          "iopub.status.idle": "2025-04-20T15:49:19.255238Z",
          "shell.execute_reply.started": "2025-04-20T15:49:19.250228Z",
          "shell.execute_reply": "2025-04-20T15:49:19.254342Z"
        },
        "id": "m35_wED0KtEK"
      },
      "outputs": [],
      "execution_count": 15
    },
    {
      "cell_type": "code",
      "source": [
        "!python3.9 -m pip show numpy"
      ],
      "metadata": {
        "trusted": true,
        "execution": {
          "iopub.status.busy": "2025-04-20T16:24:17.991626Z",
          "iopub.execute_input": "2025-04-20T16:24:17.992913Z",
          "iopub.status.idle": "2025-04-20T16:24:23.148544Z",
          "shell.execute_reply.started": "2025-04-20T16:24:17.99278Z",
          "shell.execute_reply": "2025-04-20T16:24:23.147275Z"
        },
        "colab": {
          "base_uri": "https://localhost:8080/"
        },
        "collapsed": true,
        "id": "0LLG48CkKtEK",
        "outputId": "cee67abf-dcb9-4de2-d524-92eff2c76368"
      },
      "outputs": [
        {
          "output_type": "stream",
          "name": "stdout",
          "text": [
            "Name: numpy\n",
            "Version: 1.22.0\n",
            "Summary: NumPy is the fundamental package for array computing with Python.\n",
            "Home-page: https://www.numpy.org\n",
            "Author: Travis E. Oliphant et al.\n",
            "Author-email: \n",
            "License: BSD\n",
            "Location: /usr/local/lib/python3.9/dist-packages\n",
            "Requires: \n",
            "Required-by: gradio, gymnasium, matplotlib, opencv-python, pandas, POT, scikit-learn, scipy, torchmetrics, torchshow, torchvision\n"
          ]
        }
      ],
      "execution_count": 16
    },
    {
      "cell_type": "code",
      "source": [],
      "metadata": {
        "trusted": true,
        "id": "tEHvkIZKKtEL"
      },
      "outputs": [],
      "execution_count": null
    },
    {
      "cell_type": "code",
      "source": [
        "!mkdir output_segmentations"
      ],
      "metadata": {
        "trusted": true,
        "execution": {
          "iopub.status.busy": "2025-04-20T15:49:19.25641Z",
          "iopub.execute_input": "2025-04-20T15:49:19.25676Z",
          "iopub.status.idle": "2025-04-20T15:49:19.409148Z",
          "shell.execute_reply.started": "2025-04-20T15:49:19.25673Z",
          "shell.execute_reply": "2025-04-20T15:49:19.407758Z"
        },
        "id": "1b6QvWgWKtEL"
      },
      "outputs": [],
      "execution_count": 17
    },
    {
      "cell_type": "code",
      "source": [
        "# !mv /kaggle/input/cv-a3-all/dinov2_vitl14_pretrain.pth /kaggle/input/cv-a3-all/sam_vit_h_4b8939.pth /kaggle/input/cv-a3-all/swint_only_sam_many2many.pth models"
      ],
      "metadata": {
        "trusted": true,
        "execution": {
          "iopub.status.busy": "2025-04-20T15:49:19.410609Z",
          "iopub.execute_input": "2025-04-20T15:49:19.410942Z",
          "iopub.status.idle": "2025-04-20T15:49:19.415904Z",
          "shell.execute_reply.started": "2025-04-20T15:49:19.41091Z",
          "shell.execute_reply": "2025-04-20T15:49:19.41511Z"
        },
        "id": "OnKwxzx2KtEL"
      },
      "outputs": [],
      "execution_count": null
    },
    {
      "cell_type": "code",
      "source": [],
      "metadata": {
        "trusted": true,
        "id": "ybvEvmVoKtEL"
      },
      "outputs": [],
      "execution_count": null
    },
    {
      "cell_type": "code",
      "source": [],
      "metadata": {
        "trusted": true,
        "execution": {
          "iopub.status.busy": "2025-04-20T16:19:28.870975Z",
          "iopub.execute_input": "2025-04-20T16:19:28.87129Z",
          "iopub.status.idle": "2025-04-20T16:19:28.87835Z",
          "shell.execute_reply.started": "2025-04-20T16:19:28.871261Z",
          "shell.execute_reply": "2025-04-20T16:19:28.877355Z"
        },
        "id": "eohvJNBpKtEL"
      },
      "outputs": [],
      "execution_count": null
    },
    {
      "cell_type": "code",
      "source": [
        "# def load_image(image_path):\n",
        "#     img = Image.open(image_path).convert('RGB')\n",
        "#     img = img.resize((518, 518))  ######## Resize to match Matcher's expected size\n",
        "#     img = transforms.ToTensor()(img)\n",
        "#     return img\n",
        "\n",
        "# def create_binary_mask(mask):\n",
        "#     return (mask > 0).astype(int) * 255\n",
        "\n",
        "# def visualize_results(ref_img, ref_mask, query_img, pred_mask, save_path):\n",
        "#     plt.figure(figsize=(15, 5))\n",
        "\n",
        "#     plt.subplot(1, 4, 1)\n",
        "#     plt.imshow(ref_img.permute(1, 2, 0).numpy())\n",
        "#     plt.title('Reference Image')\n",
        "#     plt.axis('off')\n",
        "\n",
        "#     plt.subplot(1, 4, 2)\n",
        "#     plt.imshow(ref_mask, cmap='gray')\n",
        "#     plt.title('Reference Mask')\n",
        "#     plt.axis('off')\n",
        "\n",
        "#     plt.subplot(1, 4, 3)\n",
        "#     plt.imshow(query_img.permute(1, 2, 0).numpy())\n",
        "#     plt.title('Query Image')\n",
        "#     plt.axis('off')\n",
        "\n",
        "#     plt.subplot(1, 4, 4)\n",
        "#     plt.imshow(pred_mask, cmap='gray')\n",
        "#     plt.title('Predicted Mask')\n",
        "#     plt.axis('off')\n",
        "\n",
        "#     plt.savefig(save_path)\n",
        "#     plt.close()"
      ],
      "metadata": {
        "trusted": true,
        "execution": {
          "iopub.status.busy": "2025-04-20T16:07:40.06637Z",
          "iopub.execute_input": "2025-04-20T16:07:40.066809Z",
          "iopub.status.idle": "2025-04-20T16:07:40.077677Z",
          "shell.execute_reply.started": "2025-04-20T16:07:40.066774Z",
          "shell.execute_reply": "2025-04-20T16:07:40.076312Z"
        },
        "id": "QtI-vy33KtEL"
      },
      "outputs": [],
      "execution_count": null
    },
    {
      "cell_type": "code",
      "source": [
        "!pwd"
      ],
      "metadata": {
        "trusted": true,
        "execution": {
          "iopub.status.busy": "2025-04-20T15:49:45.032499Z",
          "iopub.execute_input": "2025-04-20T15:49:45.033168Z",
          "iopub.status.idle": "2025-04-20T15:49:45.216528Z",
          "shell.execute_reply.started": "2025-04-20T15:49:45.033131Z",
          "shell.execute_reply": "2025-04-20T15:49:45.215143Z"
        },
        "id": "qGGae19NKtEL",
        "outputId": "c0f6aae8-d4d5-40a0-9edb-e1d2e7ca21db"
      },
      "outputs": [
        {
          "name": "stdout",
          "text": "/kaggle/working/Matcher\n",
          "output_type": "stream"
        }
      ],
      "execution_count": null
    },
    {
      "cell_type": "code",
      "source": [
        "%%writefile actual.py\n",
        "import matplotlib\n",
        "matplotlib.use('Agg')\n",
        "\n",
        "import numpy as np\n",
        "import matplotlib.pyplot as plt\n",
        "import torch\n",
        "from PIL import Image\n",
        "import torch.nn.functional as F\n",
        "import argparse\n",
        "import os\n",
        "\n",
        "from torchvision import transforms\n",
        "import argparse\n",
        "import numpy as np\n",
        "\n",
        "from matcher.Matcher import build_matcher_oss\n",
        "from segment_anything import sam_model_registry\n",
        "from dinov2.models import vision_transformer as vits\n",
        "import dinov2.utils.utils as dinov2_utils\n",
        "\n",
        "device = \"cuda\" if torch.cuda.is_available() else \"cpu\"\n",
        "\n",
        "import kagglehub\n",
        "kagglehub.login({\n",
        "    \"username\": \"varinkala\",\n",
        "    \"key\": \"fba0c1d00c2aeea2d68a62e6237aea93\"\n",
        "})\n",
        "\n",
        "varinkala_cv_a3_all_path = kagglehub.dataset_download('varinkala/cv-a3-all')\n",
        "\n",
        "print('Data source import complete.')\n",
        "\n",
        "\n",
        "def load_image(image_path):\n",
        "    img = Image.open(image_path).convert('RGB')\n",
        "    img = img.resize((518, 518))\n",
        "    img = transforms.ToTensor()(img)\n",
        "    return img\n",
        "\n",
        "def create_binary_mask(mask):\n",
        "    return (mask > 0).astype(int) * 255\n",
        "\n",
        "def visualize_results(ref_img, ref_mask, query_img, pred_mask, save_path):\n",
        "    plt.figure(figsize=(15, 5))\n",
        "\n",
        "    plt.subplot(1, 4, 1)\n",
        "    plt.imshow(ref_img.permute(1, 2, 0).numpy())\n",
        "    plt.title('Reference Image')\n",
        "    plt.axis('off')\n",
        "\n",
        "    plt.subplot(1, 4, 2)\n",
        "    plt.imshow(ref_mask, cmap='gray')\n",
        "    plt.title('Reference Mask')\n",
        "    plt.axis('off')\n",
        "\n",
        "    plt.subplot(1, 4, 3)\n",
        "    plt.imshow(query_img.permute(1, 2, 0).numpy())\n",
        "    plt.title('Query Image')\n",
        "    plt.axis('off')\n",
        "\n",
        "    plt.subplot(1, 4, 4)\n",
        "    plt.imshow(pred_mask, cmap='gray')\n",
        "    plt.title('Predicted Mask')\n",
        "    plt.axis('off')\n",
        "\n",
        "    plt.savefig(save_path)\n",
        "    plt.close()\n",
        "\n",
        "\n",
        "images_dir= varinkala_cv_a3_all_path + '/Images-20250418T060633Z-001/Images'\n",
        "output_dir='output_segmentations'\n",
        "dinov2_weights= varinkala_cv_a3_all_path + '/dinov2_vitl14_pretrain.pth'\n",
        "sam_weights= varinkala_cv_a3_all_path + '/sam_vit_h_4b8939.pth'\n",
        "\n",
        "args = argparse.Namespace(\n",
        "    images_dir=images_dir,\n",
        "    output_dir=output_dir,\n",
        "    dinov2_weights=dinov2_weights,\n",
        "    sam_weights=sam_weights,\n",
        "\n",
        "    dinov2_size='vit_large',\n",
        "    sam_size='vit_h',\n",
        "    num_centers=8,\n",
        "    use_box=False,\n",
        "    use_points_or_centers=False,\n",
        "    sample_range=\"(4,6)\",\n",
        "    max_sample_iterations=30,\n",
        "    alpha=1.0,\n",
        "    beta=0.0,\n",
        "    exp=0.0,\n",
        "    emd_filter=0.0,\n",
        "    purity_filter=0.0,\n",
        "    coverage_filter=0.0,\n",
        "    use_score_filter=False,\n",
        "    deep_score_norm_filter=0.1,\n",
        "    deep_score_filter=0.33,\n",
        "    topk_scores_threshold=0.7,\n",
        "    num_merging_mask=10,\n",
        "\n",
        "    points_per_side=64,\n",
        "    pred_iou_thresh=0.88,\n",
        "    stability_score_thresh=0.95,\n",
        "    sel_stability_score_thresh=0.0,\n",
        "    iou_filter=0.0,\n",
        "    box_nms_thresh=1.0,\n",
        "    output_layer=3,\n",
        "    dense_multimask_output=0,\n",
        "    use_dense_mask=0,\n",
        "    multimask_output=0\n",
        ")\n",
        "\n",
        "args.sample_range = eval(args.sample_range)\n",
        "\n",
        "args.device = torch.device(\"cuda:0\" if torch.cuda.is_available() else \"cpu\")\n",
        "\n",
        "matcher = build_matcher_oss(args)\n",
        "\n",
        "for subfolder in os.listdir(images_dir):\n",
        "    subfolder_path = os.path.join(images_dir, subfolder)\n",
        "    if not os.path.isdir(subfolder_path):\n",
        "        continue\n",
        "\n",
        "    image_files = [f for f in os.listdir(subfolder_path) if f.endswith(('.jpg', '.png'))]\n",
        "    if len(image_files) != 2:\n",
        "        print(f\"Skipping {subfolder} - expected 2 images, found {len(image_files)}\")\n",
        "        continue\n",
        "\n",
        "    for i in range(2):\n",
        "        ref_idx = i\n",
        "        query_idx = 1 - i\n",
        "\n",
        "        ref_img = load_image(os.path.join(subfolder_path, image_files[ref_idx]))\n",
        "        query_img = load_image(os.path.join(subfolder_path, image_files[query_idx]))\n",
        "\n",
        "        ref_mask = torch.ones((1, 518, 518))\n",
        "\n",
        "        batch = {\n",
        "            'query_img': query_img.unsqueeze(0),\n",
        "            'query_mask': torch.zeros((1, 1, 518, 518)),\n",
        "            'support_imgs': ref_img.unsqueeze(0).unsqueeze(0),\n",
        "            'support_masks': ref_mask.unsqueeze(0),\n",
        "            'class_id': torch.tensor([0])\n",
        "        }\n",
        "\n",
        "        batch = {k: v.to(device) if isinstance(v, torch.Tensor) else v for k, v in batch.items()}\n",
        "\n",
        "        matcher.set_reference(batch['support_imgs'], batch['support_masks'])\n",
        "        matcher.set_target(batch['query_img'])\n",
        "\n",
        "        with torch.no_grad():\n",
        "            pred_mask = matcher.predict()\n",
        "\n",
        "        matcher.clear()\n",
        "\n",
        "        pred_mask_np = pred_mask.squeeze().cpu().numpy()\n",
        "        pred_mask_np = create_binary_mask(pred_mask_np)\n",
        "\n",
        "        save_path = os.path.join(output_dir, f\"{subfolder}_ref{ref_idx}_query{query_idx}.png\")\n",
        "        try:\n",
        "            visualize_results(\n",
        "                ref_img,\n",
        "                ref_mask.squeeze().cpu().numpy(),\n",
        "                query_img,\n",
        "                pred_mask_np,\n",
        "                save_path\n",
        "            )\n",
        "            print(f\"Saved visualization to {save_path}\")\n",
        "        except Exception as e:\n",
        "            print(f\"Error saving visualization to {save_path}: {str(e)}\")\n",
        "\n",
        "        print(f\"Processed {subfolder} - Reference: {image_files[ref_idx]}, Query: {image_files[query_idx]}\")"
      ],
      "metadata": {
        "trusted": true,
        "execution": {
          "iopub.status.busy": "2025-04-20T16:19:28.879777Z",
          "iopub.execute_input": "2025-04-20T16:19:28.88017Z",
          "iopub.status.idle": "2025-04-20T16:21:23.449315Z",
          "shell.execute_reply.started": "2025-04-20T16:19:28.880144Z",
          "shell.execute_reply": "2025-04-20T16:21:23.447669Z"
        },
        "colab": {
          "base_uri": "https://localhost:8080/"
        },
        "id": "l-YqY-qkKtEL",
        "outputId": "37c3962d-feaa-4309-dda9-dc066ce20661"
      },
      "outputs": [
        {
          "output_type": "stream",
          "name": "stdout",
          "text": [
            "Writing actual.py\n"
          ]
        }
      ],
      "execution_count": 18
    },
    {
      "cell_type": "code",
      "source": [
        "!python3.9 actual.py"
      ],
      "metadata": {
        "colab": {
          "base_uri": "https://localhost:8080/"
        },
        "collapsed": true,
        "id": "IStGh477Qt8d",
        "outputId": "1bae3060-6eb8-4ab7-a161-b7608684e3cf"
      },
      "execution_count": 19,
      "outputs": [
        {
          "output_type": "stream",
          "name": "stdout",
          "text": [
            "xFormers not available\n",
            "xFormers not available\n",
            "Enter your Kaggle username: varinkala\n",
            "Enter your Kaggle API key (input will not be visible): \n",
            "Kaggle credentials set.\n",
            "Kaggle credentials successfully validated.\n",
            "Downloading from https://www.kaggle.com/api/v1/datasets/download/varinkala/cv-a3-all?dataset_version_number=5...\n",
            "100% 5.55G/5.55G [01:13<00:00, 80.9MB/s]\n",
            "Extracting files...\n",
            "Data source import complete.\n",
            "Saved visualization to output_segmentations/cat_ref0_query1.png\n",
            "Processed cat - Reference: 00.jpg, Query: 01.jpg\n",
            "Saved visualization to output_segmentations/cat_ref1_query0.png\n",
            "Processed cat - Reference: 01.jpg, Query: 00.jpg\n",
            "Saved visualization to output_segmentations/colorful_teapot_ref0_query1.png\n",
            "Processed colorful_teapot - Reference: 00.jpg, Query: 01.jpg\n",
            "Saved visualization to output_segmentations/colorful_teapot_ref1_query0.png\n",
            "Processed colorful_teapot - Reference: 01.jpg, Query: 00.jpg\n",
            "Saved visualization to output_segmentations/cat2_ref0_query1.png\n",
            "Processed cat2 - Reference: 00.jpg, Query: 01.jpg\n",
            "Saved visualization to output_segmentations/cat2_ref1_query0.png\n",
            "Processed cat2 - Reference: 01.jpg, Query: 00.jpg\n",
            "Saved visualization to output_segmentations/can_ref0_query1.png\n",
            "Processed can - Reference: 00.jpg, Query: 01.jpg\n",
            "Saved visualization to output_segmentations/can_ref1_query0.png\n",
            "Processed can - Reference: 01.jpg, Query: 00.jpg\n",
            "Saved visualization to output_segmentations/dog3_ref0_query1.png\n",
            "Processed dog3 - Reference: 00.jpg, Query: 01.jpg\n",
            "Saved visualization to output_segmentations/dog3_ref1_query0.png\n",
            "Processed dog3 - Reference: 01.jpg, Query: 00.jpg\n",
            "Saved visualization to output_segmentations/clock_ref0_query1.png\n",
            "Processed clock - Reference: 00.jpg, Query: 01.jpg\n",
            "Saved visualization to output_segmentations/clock_ref1_query0.png\n",
            "Processed clock - Reference: 01.jpg, Query: 00.jpg\n",
            "Saved visualization to output_segmentations/chair_ref0_query1.png\n",
            "Processed chair - Reference: 00.jpg, Query: 01.jpg\n",
            "Saved visualization to output_segmentations/chair_ref1_query0.png\n",
            "Processed chair - Reference: 01.jpg, Query: 00.jpg\n",
            "Saved visualization to output_segmentations/berry_bowl_ref0_query1.png\n",
            "Processed berry_bowl - Reference: 00.jpg, Query: 01.jpg\n",
            "Saved visualization to output_segmentations/berry_bowl_ref1_query0.png\n",
            "Processed berry_bowl - Reference: 01.jpg, Query: 00.jpg\n",
            "Saved visualization to output_segmentations/barn_ref0_query1.png\n",
            "Processed barn - Reference: 00.jpg, Query: 01.jpg\n",
            "Saved visualization to output_segmentations/barn_ref1_query0.png\n",
            "Processed barn - Reference: 01.jpg, Query: 00.jpg\n",
            "Saved visualization to output_segmentations/backpack_dog_ref0_query1.png\n",
            "Processed backpack_dog - Reference: 00.jpg, Query: 01.jpg\n",
            "Saved visualization to output_segmentations/backpack_dog_ref1_query0.png\n",
            "Processed backpack_dog - Reference: 01.jpg, Query: 00.jpg\n",
            "Saved visualization to output_segmentations/dog2_ref0_query1.png\n",
            "Processed dog2 - Reference: 00.jpg, Query: 01.jpg\n",
            "Saved visualization to output_segmentations/dog2_ref1_query0.png\n",
            "Processed dog2 - Reference: 01.jpg, Query: 00.jpg\n",
            "Saved visualization to output_segmentations/bear_plushie_ref0_query1.png\n",
            "Processed bear_plushie - Reference: 00.jpg, Query: 01.jpg\n",
            "Saved visualization to output_segmentations/bear_plushie_ref1_query0.png\n",
            "Processed bear_plushie - Reference: 01.jpg, Query: 00.jpg\n",
            "Saved visualization to output_segmentations/colorful_sneaker_ref0_query1.png\n",
            "Processed colorful_sneaker - Reference: 00.jpg, Query: 01.jpg\n",
            "Saved visualization to output_segmentations/colorful_sneaker_ref1_query0.png\n",
            "Processed colorful_sneaker - Reference: 01.jpg, Query: 00.jpg\n",
            "Saved visualization to output_segmentations/dog_ref0_query1.png\n",
            "Processed dog - Reference: 00.jpg, Query: 03.jpg\n",
            "Saved visualization to output_segmentations/dog_ref1_query0.png\n",
            "Processed dog - Reference: 03.jpg, Query: 00.jpg\n",
            "Saved visualization to output_segmentations/backpack_ref0_query1.png\n",
            "Processed backpack - Reference: 00.jpg, Query: 05.jpg\n",
            "Saved visualization to output_segmentations/backpack_ref1_query0.png\n",
            "Processed backpack - Reference: 05.jpg, Query: 00.jpg\n",
            "Saved visualization to output_segmentations/candle_ref0_query1.png\n",
            "Processed candle - Reference: 00.jpg, Query: 01.jpg\n",
            "Saved visualization to output_segmentations/candle_ref1_query0.png\n",
            "Processed candle - Reference: 01.jpg, Query: 00.jpg\n",
            "Saved visualization to output_segmentations/cat_statue_ref0_query1.png\n",
            "Processed cat_statue - Reference: 00.jpg, Query: 01.jpg\n",
            "Saved visualization to output_segmentations/cat_statue_ref1_query0.png\n",
            "Processed cat_statue - Reference: 01.jpg, Query: 00.jpg\n"
          ]
        }
      ]
    },
    {
      "cell_type": "code",
      "source": [
        "# from google.colab import drive\n",
        "# drive.mount('/content/drive')"
      ],
      "metadata": {
        "id": "6-0zJiOMfom7",
        "outputId": "761878b9-7365-4d8d-8b0f-0249ec746c58",
        "colab": {
          "base_uri": "https://localhost:8080/"
        }
      },
      "execution_count": 20,
      "outputs": [
        {
          "output_type": "stream",
          "name": "stdout",
          "text": [
            "Mounted at /content/drive\n"
          ]
        }
      ]
    },
    {
      "cell_type": "code",
      "source": [
        "# import os\n",
        "# import shutil\n",
        "\n",
        "# # Define source and destination paths\n",
        "# source_folder = 'output_segmentations/'  # Path to the output_segmentations folder\n",
        "# destination_folder = '/content/drive/MyDrive/CV_A3_Q5_segmentations/'  # Path to the folder in your Drive\n",
        "\n",
        "# # Create the destination folder if it doesn't exist\n",
        "# os.makedirs(destination_folder, exist_ok=True)\n",
        "\n",
        "# # Iterate through all files in the source folder\n",
        "# for filename in os.listdir(source_folder):\n",
        "#   # Construct the full file paths\n",
        "#   source_path = os.path.join(source_folder, filename)\n",
        "#   destination_path = os.path.join(destination_folder, filename)\n",
        "\n",
        "#   # Copy the file to the destination folder\n",
        "#   shutil.copy(source_path, destination_path)\n",
        "\n",
        "# print(f\"Images uploaded to {destination_folder}\")"
      ],
      "metadata": {
        "id": "_Cj2TY4fgBxA",
        "outputId": "198e8bc4-2ee7-4408-8399-4f40ef887457",
        "colab": {
          "base_uri": "https://localhost:8080/"
        }
      },
      "execution_count": 22,
      "outputs": [
        {
          "output_type": "stream",
          "name": "stdout",
          "text": [
            "Images uploaded to /content/drive/MyDrive/CV_A3_Q5_segmentations/\n"
          ]
        }
      ]
    },
    {
      "cell_type": "code",
      "source": [
        "# kagglehub details:\n",
        "# Username: varinkala\n",
        "# token: fba0c1d00c2aeea2d68a62e6237aea93"
      ],
      "metadata": {
        "id": "IYnV_kV_TFfm"
      },
      "execution_count": null,
      "outputs": []
    },
    {
      "cell_type": "code",
      "source": [
        "# %tb"
      ],
      "metadata": {
        "trusted": true,
        "execution": {
          "iopub.status.busy": "2025-04-20T15:50:25.538827Z",
          "iopub.status.idle": "2025-04-20T15:50:25.539156Z",
          "shell.execute_reply.started": "2025-04-20T15:50:25.539013Z",
          "shell.execute_reply": "2025-04-20T15:50:25.539026Z"
        },
        "id": "Iugho5sqKtEM"
      },
      "outputs": [],
      "execution_count": null
    }
  ]
}